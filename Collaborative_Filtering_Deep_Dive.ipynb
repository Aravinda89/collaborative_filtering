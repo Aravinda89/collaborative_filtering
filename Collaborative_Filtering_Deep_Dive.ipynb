{
  "metadata": {
    "kernelspec": {
      "language": "python",
      "display_name": "Python 3",
      "name": "python3"
    },
    "language_info": {
      "pygments_lexer": "ipython3",
      "nbconvert_exporter": "python",
      "version": "3.6.4",
      "file_extension": ".py",
      "codemirror_mode": {
        "name": "ipython",
        "version": 3
      },
      "name": "python",
      "mimetype": "text/x-python"
    },
    "colab": {
      "provenance": [],
      "include_colab_link": true
    }
  },
  "nbformat_minor": 0,
  "nbformat": 4,
  "cells": [
    {
      "cell_type": "markdown",
      "metadata": {
        "id": "view-in-github",
        "colab_type": "text"
      },
      "source": [
        "<a href=\"https://colab.research.google.com/github/Aravinda89/collaborative_filtering/blob/main/Collaborative_Filtering_Deep_Dive.ipynb\" target=\"_parent\"><img src=\"https://colab.research.google.com/assets/colab-badge.svg\" alt=\"Open In Colab\"/></a>"
      ]
    },
    {
      "cell_type": "code",
      "source": [
        "from fastai.collab import *\n",
        "from fastai.tabular.all import *\n",
        "set_seed(42)"
      ],
      "metadata": {
        "execution": {
          "iopub.status.busy": "2022-06-27T22:34:53.713771Z",
          "iopub.execute_input": "2022-06-27T22:34:53.714291Z",
          "iopub.status.idle": "2022-06-27T22:34:58.125346Z",
          "shell.execute_reply.started": "2022-06-27T22:34:53.714191Z",
          "shell.execute_reply": "2022-06-27T22:34:58.123923Z"
        },
        "trusted": true,
        "id": "en8bY9KJAfis"
      },
      "execution_count": null,
      "outputs": []
    },
    {
      "cell_type": "markdown",
      "source": [
        "> *This is chapter 8 of the book [Practical Deep Learning for Coders](https://www.amazon.com/Deep-Learning-Coders-fastai-PyTorch/dp/1492045527), provided courtesy of O'Reilly Media. The full book is [available as Jupyter Notebooks](https://github.com/fastai/fastbook/). A free course that covers the book is [available here](https://course.fast.ai/).*\n",
        ">\n",
        "> Click **Copy and Edit** in the top right to run the code in this notebook yourself."
      ],
      "metadata": {
        "id": "omFFbamdAfiu"
      }
    },
    {
      "cell_type": "code",
      "source": [],
      "metadata": {
        "id": "fg7tY14CB91c"
      },
      "execution_count": null,
      "outputs": []
    },
    {
      "cell_type": "markdown",
      "source": [
        "One very common problem to solve is when you have a number of users and a number of products, and you want to recommend which products are most likely to be useful for which users. There are many variations of this: for example, recommending movies (such as on Netflix), figuring out what to highlight for a user on a home page, deciding what stories to show in a social media feed, and so forth. There is a general solution to this problem, called *collaborative filtering*, which works like this: look at what products the current user has used or liked, find other users that have used or liked similar products, and then recommend other products that those users have used or liked.\n",
        "\n",
        "For example, on Netflix you may have watched lots of movies that are science fiction, full of action, and were made in the 1970s. Netflix may not know these particular properties of the films you have watched, but it will be able to see that other people that have watched the same movies that you watched also tended to watch other movies that are science fiction, full of action, and were made in the 1970s. In other words, to use this approach we don't necessarily need to know anything about the movies, except who like to watch them.\n",
        "\n",
        "There is actually a more general class of problems that this approach can solve, not necessarily involving users and products. Indeed, for collaborative filtering we more commonly refer to *items*, rather than *products*. Items could be links that people click on, diagnoses that are selected for patients, and so forth.\n",
        "\n",
        "The key foundational idea is that of *latent factors*. In the Netflix example, we started with the assumption that you like old, action-packed sci-fi movies. But you never actually told Netflix that you like these kinds of movies. And Netflix never actually needed to add columns to its movies table saying which movies are of these types. Still, there must be some underlying concept of sci-fi, action, and movie age, and these concepts must be relevant for at least some people's movie watching decisions."
      ],
      "metadata": {
        "id": "3_tB2q0QAfiv"
      }
    },
    {
      "cell_type": "markdown",
      "source": [
        "For this chapter we are going to work on this movie recommendation problem. We'll start by getting some data suitable for a collaborative filtering model."
      ],
      "metadata": {
        "id": "KRxpz7y5Afiw"
      }
    },
    {
      "cell_type": "markdown",
      "source": [
        "## A First Look at the Data"
      ],
      "metadata": {
        "id": "SOFRYG2NAfiw"
      }
    },
    {
      "cell_type": "markdown",
      "source": [
        "We do not have access to Netflix's entire dataset of movie watching history, but there is a great dataset that we can use, called [MovieLens](https://grouplens.org/datasets/movielens/). This dataset contains tens of millions of movie rankings (a combination of a movie ID, a user ID, and a numeric rating), although we will just use a subset of 100,000 of them for our example. If you're interested, it would be a great learning project to try and replicate this approach on the full 25-million recommendation dataset, which you can get from their website."
      ],
      "metadata": {
        "id": "s0S5V5L8Afix"
      }
    },
    {
      "cell_type": "markdown",
      "source": [
        "The dataset is available through the usual fastai function:"
      ],
      "metadata": {
        "id": "U-Pvsk8JAfix"
      }
    },
    {
      "cell_type": "code",
      "source": [
        "path = untar_data(URLs.ML_100k)"
      ],
      "metadata": {
        "execution": {
          "iopub.status.busy": "2022-06-27T22:34:53.713771Z",
          "iopub.execute_input": "2022-06-27T22:34:53.714291Z",
          "iopub.status.idle": "2022-06-27T22:34:58.125346Z",
          "shell.execute_reply.started": "2022-06-27T22:34:53.714191Z",
          "shell.execute_reply": "2022-06-27T22:34:58.123923Z"
        },
        "trusted": true,
        "id": "nNBWDHpdAfiy"
      },
      "execution_count": null,
      "outputs": []
    },
    {
      "cell_type": "markdown",
      "source": [
        "According to the *README*, the main table is in the file *u.data*. It is tab-separated and the columns are, respectively user, movie, rating, and timestamp. Since those names are not encoded, we need to indicate them when reading the file with Pandas. Here is a way to open this table and take a look:"
      ],
      "metadata": {
        "id": "ae-HQIFCAfiz"
      }
    },
    {
      "cell_type": "code",
      "source": [
        "ratings = pd.read_csv(path/'u.data', delimiter='\\t', header=None,\n",
        "                      names=['user','movie','rating','timestamp'])\n",
        "ratings.head()"
      ],
      "metadata": {
        "execution": {
          "iopub.status.busy": "2022-06-27T22:34:58.13045Z",
          "iopub.execute_input": "2022-06-27T22:34:58.131806Z",
          "iopub.status.idle": "2022-06-27T22:34:58.221177Z",
          "shell.execute_reply.started": "2022-06-27T22:34:58.131756Z",
          "shell.execute_reply": "2022-06-27T22:34:58.219087Z"
        },
        "trusted": true,
        "id": "RNjMMX9BAfi0"
      },
      "execution_count": null,
      "outputs": []
    },
    {
      "cell_type": "markdown",
      "source": [
        "Although this has all the information we need, it is not a particularly helpful way for humans to look at this data. Here is the same data cross-tabulated into a human-friendly table:"
      ],
      "metadata": {
        "id": "ackbXAmHAfi0"
      }
    },
    {
      "cell_type": "markdown",
      "source": [
        "![image.png](attachment:9cbc69a5-40ca-4406-9bde-0db7c9887870.png)"
      ],
      "metadata": {
        "id": "3AD2uUh4Afi1"
      }
    },
    {
      "cell_type": "markdown",
      "source": [
        "We have selected just a few of the most popular movies, and users who watch the most movies, for this crosstab example. The empty cells in this table are the things that we would like our model to learn to fill in. Those are the places where a user has not reviewed the movie yet, presumably because they have not watched it. For each user, we would like to figure out which of those movies they might be most likely to enjoy.\n",
        "\n",
        "If we knew for each user to what degree they liked each important category that a movie might fall into, such as genre, age, preferred directors and actors, and so forth, and we knew the same information about each movie, then a simple way to fill in this table would be to multiply this information together for each movie and use a combination. For instance, assuming these factors range between -1 and +1, with positive numbers indicating stronger matches and negative numbers weaker ones, and the categories are science-fiction, action, and old movies, then we could represent the movie *The Last Skywalker* as:"
      ],
      "metadata": {
        "id": "HhNYjV_iAfi1"
      }
    },
    {
      "cell_type": "code",
      "source": [
        "last_skywalker = np.array([0.98,0.9,-0.9])"
      ],
      "metadata": {
        "execution": {
          "iopub.status.busy": "2022-06-27T22:34:58.225102Z",
          "iopub.execute_input": "2022-06-27T22:34:58.227736Z",
          "iopub.status.idle": "2022-06-27T22:34:58.239654Z",
          "shell.execute_reply.started": "2022-06-27T22:34:58.227659Z",
          "shell.execute_reply": "2022-06-27T22:34:58.237762Z"
        },
        "trusted": true,
        "id": "Q4qD2LZWAfi2"
      },
      "execution_count": null,
      "outputs": []
    },
    {
      "cell_type": "markdown",
      "source": [
        "Here, for instance, we are scoring *very science-fiction* as 0.98, *very action* as 0.9, and *very not old* as -0.9. We could represent a user who likes modern sci-fi action movies as:"
      ],
      "metadata": {
        "id": "UWYmOW_fAfi2"
      }
    },
    {
      "cell_type": "code",
      "source": [
        "user1 = np.array([0.9,0.8,-0.6])"
      ],
      "metadata": {
        "execution": {
          "iopub.status.busy": "2022-06-27T22:34:58.252991Z",
          "iopub.execute_input": "2022-06-27T22:34:58.253711Z",
          "iopub.status.idle": "2022-06-27T22:34:58.272044Z",
          "shell.execute_reply.started": "2022-06-27T22:34:58.253649Z",
          "shell.execute_reply": "2022-06-27T22:34:58.270228Z"
        },
        "trusted": true,
        "id": "_QP7-P4JAfi2"
      },
      "execution_count": null,
      "outputs": []
    },
    {
      "cell_type": "markdown",
      "source": [
        "and we can now calculate the match between this combination:"
      ],
      "metadata": {
        "id": "h6MrPeKWAfi2"
      }
    },
    {
      "cell_type": "code",
      "source": [
        "(user1*last_skywalker).sum()"
      ],
      "metadata": {
        "execution": {
          "iopub.status.busy": "2022-06-27T22:34:58.275126Z",
          "iopub.execute_input": "2022-06-27T22:34:58.276203Z",
          "iopub.status.idle": "2022-06-27T22:34:58.286255Z",
          "shell.execute_reply.started": "2022-06-27T22:34:58.276144Z",
          "shell.execute_reply": "2022-06-27T22:34:58.284957Z"
        },
        "trusted": true,
        "id": "J5g1zowlAfi3"
      },
      "execution_count": null,
      "outputs": []
    },
    {
      "cell_type": "markdown",
      "source": [
        "When we multiply two vectors together and add up the results, this is known as the *dot product*. It is used a lot in machine learning, and forms the basis of matrix multiplication. We will be looking a lot more at matrix multiplication and dot products in <<chapter_foundations>>."
      ],
      "metadata": {
        "id": "wmPSwP8bAfi3"
      }
    },
    {
      "cell_type": "markdown",
      "source": [
        "> jargon: dot product: The mathematical operation of multiplying the elements of two vectors together, and then summing up the result."
      ],
      "metadata": {
        "id": "6V2ylTgCAfi3"
      }
    },
    {
      "cell_type": "markdown",
      "source": [
        "On the other hand, we might represent the movie *Casablanca* as:"
      ],
      "metadata": {
        "id": "XDCsowgLAfi4"
      }
    },
    {
      "cell_type": "code",
      "source": [
        "casablanca = np.array([-0.99,-0.3,0.8])"
      ],
      "metadata": {
        "execution": {
          "iopub.status.busy": "2022-06-27T22:34:58.288634Z",
          "iopub.execute_input": "2022-06-27T22:34:58.289675Z",
          "iopub.status.idle": "2022-06-27T22:34:58.300906Z",
          "shell.execute_reply.started": "2022-06-27T22:34:58.289616Z",
          "shell.execute_reply": "2022-06-27T22:34:58.299112Z"
        },
        "trusted": true,
        "id": "tXH1UVQfAfi4"
      },
      "execution_count": null,
      "outputs": []
    },
    {
      "cell_type": "markdown",
      "source": [
        "The match between this combination is:"
      ],
      "metadata": {
        "id": "W4u_yxPZAfi4"
      }
    },
    {
      "cell_type": "code",
      "source": [
        "(user1*casablanca).sum()"
      ],
      "metadata": {
        "execution": {
          "iopub.status.busy": "2022-06-27T22:34:58.303405Z",
          "iopub.execute_input": "2022-06-27T22:34:58.304716Z",
          "iopub.status.idle": "2022-06-27T22:34:58.316422Z",
          "shell.execute_reply.started": "2022-06-27T22:34:58.304653Z",
          "shell.execute_reply": "2022-06-27T22:34:58.314972Z"
        },
        "trusted": true,
        "id": "rp0SdJouAfi4"
      },
      "execution_count": null,
      "outputs": []
    },
    {
      "cell_type": "markdown",
      "source": [
        "Since we don't know what the latent factors actually are, and we don't know how to score them for each user and movie, we should learn them."
      ],
      "metadata": {
        "id": "EJrYQPTxAfi5"
      }
    },
    {
      "cell_type": "markdown",
      "source": [
        "## Learning the Latent Factors"
      ],
      "metadata": {
        "id": "AbJvYpcvAfi5"
      }
    },
    {
      "cell_type": "markdown",
      "source": [
        "There is surprisingly little difference between specifying the structure of a model, as we did in the last section, and learning one, since we can just use our general gradient descent approach.\n",
        "\n",
        "Step 1 of this approach is to randomly initialize some parameters. These parameters will be a set of latent factors for each user and movie. We will have to decide how many to use. We will discuss how to select this shortly, but for illustrative purposes let's use 5 for now. Because each user will have a set of these factors and each movie will have a set of these factors, we can show these randomly initialized values right next to the users and movies in our crosstab, and we can then fill in the dot products for each of these combinations in the middle. For example, this is what it looks like in Microsoft Excel, with the top-left cell formula displayed as an example:"
      ],
      "metadata": {
        "id": "j0dSxJNWAfi5"
      }
    },
    {
      "cell_type": "markdown",
      "source": [
        "![image.png](attachment:dd6a4c5e-c820-4b32-a621-eb2d300be4da.png)"
      ],
      "metadata": {
        "id": "oF7tMPOyAfi6"
      }
    },
    {
      "cell_type": "markdown",
      "source": [
        "Step 2 of this approach is to calculate our predictions. As we've discussed, we can do this by simply taking the dot product of each movie with each user. If, for instance, the first latent user factor represents how much the user likes action movies and the first latent movie factor represents if the movie has a lot of action or not, the product of those will be particularly high if either the user likes action movies and the movie has a lot of action in it or the user doesn't like action movies and the movie doesn't have any action in it. On the other hand, if we have a mismatch (a user loves action movies but the movie isn't an action film, or the user doesn't like action movies and it is one), the product will be very low.\n",
        "\n",
        "Step 3 is to calculate our loss. We can use any loss function that we wish; let's pick mean squared error for now, since that is one reasonable way to represent the accuracy of a prediction.\n",
        "\n",
        "That's all we need. With this in place, we can optimize our parameters (that is, the latent factors) using stochastic gradient descent, such as to minimize the loss. At each step, the stochastic gradient descent optimizer will calculate the match between each movie and each user using the dot product, and will compare it to the actual rating that each user gave to each movie. It will then calculate the derivative of this value and will step the weights by multiplying this by the learning rate. After doing this lots of times, the loss will get better and better, and the recommendations will also get better and better."
      ],
      "metadata": {
        "id": "ITkqqz2eAfi6"
      }
    },
    {
      "cell_type": "markdown",
      "source": [
        "To use the usual `Learner.fit` function we will need to get our data into a `DataLoaders`, so let's focus on that now."
      ],
      "metadata": {
        "id": "WCFShLrmAfi6"
      }
    },
    {
      "cell_type": "markdown",
      "source": [
        "## Creating the DataLoaders"
      ],
      "metadata": {
        "id": "EqDsFktGAfi6"
      }
    },
    {
      "cell_type": "markdown",
      "source": [
        "When showing the data, we would rather see movie titles than their IDs. The table `u.item` contains the correspondence of IDs to titles:"
      ],
      "metadata": {
        "id": "FceWNCx-Afi7"
      }
    },
    {
      "cell_type": "code",
      "source": [
        "movies = pd.read_csv(path/'u.item',  delimiter='|', encoding='latin-1',\n",
        "                     usecols=(0,1), names=('movie','title'), header=None)\n",
        "movies.head()"
      ],
      "metadata": {
        "execution": {
          "iopub.status.busy": "2022-06-27T22:34:58.318129Z",
          "iopub.execute_input": "2022-06-27T22:34:58.319778Z",
          "iopub.status.idle": "2022-06-27T22:34:58.346197Z",
          "shell.execute_reply.started": "2022-06-27T22:34:58.319709Z",
          "shell.execute_reply": "2022-06-27T22:34:58.34494Z"
        },
        "trusted": true,
        "id": "vqwSb7nCAfi7"
      },
      "execution_count": null,
      "outputs": []
    },
    {
      "cell_type": "markdown",
      "source": [
        "We can merge this with our `ratings` table to get the user ratings by title:"
      ],
      "metadata": {
        "id": "kGldDk8hAfi8"
      }
    },
    {
      "cell_type": "code",
      "source": [
        "ratings = ratings.merge(movies)\n",
        "ratings.head()"
      ],
      "metadata": {
        "execution": {
          "iopub.status.busy": "2022-06-27T22:34:58.348114Z",
          "iopub.execute_input": "2022-06-27T22:34:58.348935Z",
          "iopub.status.idle": "2022-06-27T22:34:58.401981Z",
          "shell.execute_reply.started": "2022-06-27T22:34:58.348883Z",
          "shell.execute_reply": "2022-06-27T22:34:58.400605Z"
        },
        "trusted": true,
        "id": "7DAfUClLAfi8"
      },
      "execution_count": null,
      "outputs": []
    },
    {
      "cell_type": "markdown",
      "source": [
        "We can then build a `DataLoaders` object from this table. By default, it takes the first column for the user, the second column for the item (here our movies), and the third column for the ratings. We need to change the value of `item_name` in our case to use the titles instead of the IDs:"
      ],
      "metadata": {
        "id": "haxkkUw-Afi8"
      }
    },
    {
      "cell_type": "code",
      "source": [
        "dls = CollabDataLoaders.from_df(ratings, item_name='title', bs=64)\n",
        "dls.show_batch()"
      ],
      "metadata": {
        "execution": {
          "iopub.status.busy": "2022-06-27T22:34:58.406029Z",
          "iopub.execute_input": "2022-06-27T22:34:58.407132Z",
          "iopub.status.idle": "2022-06-27T22:34:58.659819Z",
          "shell.execute_reply.started": "2022-06-27T22:34:58.407085Z",
          "shell.execute_reply": "2022-06-27T22:34:58.658426Z"
        },
        "trusted": true,
        "id": "H5r11QJkAfi8"
      },
      "execution_count": null,
      "outputs": []
    },
    {
      "cell_type": "markdown",
      "source": [
        "To represent collaborative filtering in PyTorch we can't just use the crosstab representation directly, especially if we want it to fit into our deep learning framework. We can represent our movie and user latent factor tables as simple matrices:"
      ],
      "metadata": {
        "id": "gt90O_m-Afi9"
      }
    },
    {
      "cell_type": "code",
      "source": [
        "n_users  = len(dls.classes['user'])\n",
        "n_movies = len(dls.classes['title'])\n",
        "n_factors = 5\n",
        "\n",
        "user_factors = torch.randn(n_users, n_factors)\n",
        "movie_factors = torch.randn(n_movies, n_factors)"
      ],
      "metadata": {
        "execution": {
          "iopub.status.busy": "2022-06-27T22:34:58.674575Z",
          "iopub.execute_input": "2022-06-27T22:34:58.675858Z",
          "iopub.status.idle": "2022-06-27T22:34:58.687494Z",
          "shell.execute_reply.started": "2022-06-27T22:34:58.675814Z",
          "shell.execute_reply": "2022-06-27T22:34:58.686168Z"
        },
        "trusted": true,
        "id": "M5mtrE4RAfi-"
      },
      "execution_count": null,
      "outputs": []
    },
    {
      "cell_type": "markdown",
      "source": [
        "To calculate the result for a particular movie and user combination, we have to look up the index of the movie in our movie latent factor matrix and the index of the user in our user latent factor matrix; then we can do our dot product between the two latent factor vectors. But *look up in an index* is not an operation our deep learning models know how to do. They know how to do matrix products, and activation functions.\n",
        "\n",
        "Fortunately, it turns out that we can represent *look up in an index* as a matrix product. The trick is to replace our indices with one-hot-encoded vectors. Here is an example of what happens if we multiply a vector by a one-hot-encoded vector representing the index 3:"
      ],
      "metadata": {
        "id": "ElWl4qgIAfi-"
      }
    },
    {
      "cell_type": "code",
      "source": [
        "one_hot_3 = one_hot(3, n_users).float()"
      ],
      "metadata": {
        "execution": {
          "iopub.status.busy": "2022-06-27T22:34:58.689208Z",
          "iopub.execute_input": "2022-06-27T22:34:58.689934Z",
          "iopub.status.idle": "2022-06-27T22:34:58.70479Z",
          "shell.execute_reply.started": "2022-06-27T22:34:58.689892Z",
          "shell.execute_reply": "2022-06-27T22:34:58.703432Z"
        },
        "trusted": true,
        "id": "jpZTHUgEAfi-"
      },
      "execution_count": null,
      "outputs": []
    },
    {
      "cell_type": "code",
      "source": [
        "user_factors.t() @ one_hot_3"
      ],
      "metadata": {
        "execution": {
          "iopub.status.busy": "2022-06-27T22:34:58.706572Z",
          "iopub.execute_input": "2022-06-27T22:34:58.707841Z",
          "iopub.status.idle": "2022-06-27T22:34:58.730934Z",
          "shell.execute_reply.started": "2022-06-27T22:34:58.707783Z",
          "shell.execute_reply": "2022-06-27T22:34:58.729791Z"
        },
        "trusted": true,
        "id": "Mw2V0N95Afi-"
      },
      "execution_count": null,
      "outputs": []
    },
    {
      "cell_type": "markdown",
      "source": [
        "It gives us the same vector as the one at index 3 in the matrix:"
      ],
      "metadata": {
        "id": "PZ_xtt-8Afi_"
      }
    },
    {
      "cell_type": "code",
      "source": [
        "user_factors[3]"
      ],
      "metadata": {
        "execution": {
          "iopub.status.busy": "2022-06-27T22:34:58.73236Z",
          "iopub.execute_input": "2022-06-27T22:34:58.733288Z",
          "iopub.status.idle": "2022-06-27T22:34:58.745511Z",
          "shell.execute_reply.started": "2022-06-27T22:34:58.733241Z",
          "shell.execute_reply": "2022-06-27T22:34:58.744287Z"
        },
        "trusted": true,
        "id": "j0t7Tr48Afi_"
      },
      "execution_count": null,
      "outputs": []
    },
    {
      "cell_type": "markdown",
      "source": [
        "If we do that for a few indices at once, we will have a matrix of one-hot-encoded vectors, and that operation will be a matrix multiplication! This would be a perfectly acceptable way to build models using this kind of architecture, except that it would use a lot more memory and time than necessary. We know that there is no real underlying reason to store the one-hot-encoded vector, or to search through it to find the occurrence of the number one—we should just be able to index into an array directly with an integer. Therefore, most deep learning libraries, including PyTorch, include a special layer that does just this; it indexes into a vector using an integer, but has its derivative calculated in such a way that it is identical to what it would have been if it had done a matrix multiplication with a one-hot-encoded vector. This is called an *embedding*."
      ],
      "metadata": {
        "id": "qYxqNTrPAfi_"
      }
    },
    {
      "cell_type": "markdown",
      "source": [
        "> jargon: Embedding: Multiplying by a one-hot-encoded matrix, using the computational shortcut that it can be implemented by simply indexing directly. This is quite a fancy word for a very simple concept. The thing that you multiply the one-hot-encoded matrix by (or, using the computational shortcut, index into directly) is called the _embedding matrix_."
      ],
      "metadata": {
        "id": "j0QEJpgBAfjA"
      }
    },
    {
      "cell_type": "markdown",
      "source": [
        "In computer vision, we have a very easy way to get all the information of a pixel through its RGB values: each pixel in a colored image is represented by three numbers. Those three numbers give us the redness, the greenness and the blueness, which is enough to get our model to work afterward.\n",
        "\n",
        "For the problem at hand, we don't have the same easy way to characterize a user or a movie. There are probably relations with genres: if a given user likes romance, they are likely to give higher scores to romance movies. Other factors might be whether the movie is more action-oriented versus heavy on dialogue, or the presence of a specific actor that a user might particularly like.\n",
        "\n",
        "How do we determine numbers to characterize those? The answer is, we don't. We will let our model *learn* them. By analyzing the existing relations between users and movies, our model can figure out itself the features that seem important or not.\n",
        "\n",
        "This is what embeddings are. We will attribute to each of our users and each of our movies a random vector of a certain length (here, `n_factors=5`), and we will make those learnable parameters. That means that at each step, when we compute the loss by comparing our predictions to our targets, we will compute the gradients of the loss with respect to those embedding vectors and update them with the rules of SGD (or another optimizer).\n",
        "\n",
        "At the beginning, those numbers don't mean anything since we have chosen them randomly, but by the end of training, they will. By learning on existing data about the relations between users and movies, without having any other information, we will see that they still get some important features, and can isolate blockbusters from independent cinema, action movies from romance, and so on.\n",
        "\n",
        "We are now in a position that we can create our whole model from scratch."
      ],
      "metadata": {
        "id": "JEHxN_25AfjA"
      }
    },
    {
      "cell_type": "markdown",
      "source": [
        "## Collaborative Filtering from Scratch"
      ],
      "metadata": {
        "id": "2ovXkYpGAfjA"
      }
    },
    {
      "cell_type": "markdown",
      "source": [
        "Before we can write a model in PyTorch, we first need to learn the basics of object-oriented programming and Python. If you haven't done any object-oriented programming before, we will give you a quick introduction here, but we would recommend looking up a tutorial and getting some practice before moving on.\n",
        "\n",
        "The key idea in object-oriented programming is the *class*. We have been using classes throughout this book, such as `DataLoader`, `string`, and `Learner`. Python also makes it easy for us to create new classes. Here is an example of a simple class:"
      ],
      "metadata": {
        "id": "LnlgfCDFAfjB"
      }
    },
    {
      "cell_type": "code",
      "source": [
        "class Example:\n",
        "    def __init__(self, a): self.a = a\n",
        "    def say(self,x): return f'Hello {self.a}, {x}.'"
      ],
      "metadata": {
        "execution": {
          "iopub.status.busy": "2022-06-27T22:34:58.747619Z",
          "iopub.execute_input": "2022-06-27T22:34:58.748745Z",
          "iopub.status.idle": "2022-06-27T22:34:58.756531Z",
          "shell.execute_reply.started": "2022-06-27T22:34:58.74868Z",
          "shell.execute_reply": "2022-06-27T22:34:58.754847Z"
        },
        "trusted": true,
        "id": "JR0_Gpg5AfjB"
      },
      "execution_count": null,
      "outputs": []
    },
    {
      "cell_type": "markdown",
      "source": [
        "The most important piece of this is the special method called `__init__` (pronounced *dunder init*). In Python, any method surrounded in double underscores like this is considered special. It indicates that there is some extra behavior associated with this method name. In the case of `__init__`, this is the method Python will call when your new object is created. So, this is where you can set up any state that needs to be initialized upon object creation. Any parameters included when the user constructs an instance of your class will be passed to the `__init__` method as parameters. Note that the first parameter to any method defined inside a class is `self`, so you can use this to set and get any attributes that you will need:"
      ],
      "metadata": {
        "id": "mPhovIsYAfjB"
      }
    },
    {
      "cell_type": "code",
      "source": [
        "ex = Example('Sylvain')\n",
        "ex.say('nice to meet you')"
      ],
      "metadata": {
        "execution": {
          "iopub.status.busy": "2022-06-27T22:34:58.758928Z",
          "iopub.execute_input": "2022-06-27T22:34:58.760249Z",
          "iopub.status.idle": "2022-06-27T22:34:58.772044Z",
          "shell.execute_reply.started": "2022-06-27T22:34:58.760197Z",
          "shell.execute_reply": "2022-06-27T22:34:58.770382Z"
        },
        "trusted": true,
        "id": "bP2Slgm7AfjB"
      },
      "execution_count": null,
      "outputs": []
    },
    {
      "cell_type": "markdown",
      "source": [
        "Also note that creating a new PyTorch module requires inheriting from `Module`. *Inheritance* is an important object-oriented concept that we will not discuss in detail here—in short, it means that we can add additional behavior to an existing class. PyTorch already provides a `Module` class, which provides some basic foundations that we want to build on. So, we add the name of this *superclass* after the name of the class that we are defining, as shown in the following example.\n",
        "\n",
        "The final thing that you need to know to create a new PyTorch module is that when your module is called, PyTorch will call a method in your class called `forward`, and will pass along to that any parameters that are included in the call. Here is the class defining our dot product model:"
      ],
      "metadata": {
        "id": "VgpMQDZLAfjC"
      }
    },
    {
      "cell_type": "code",
      "source": [
        "class DotProduct(Module):\n",
        "    def __init__(self, n_users, n_movies, n_factors):\n",
        "        self.user_factors = Embedding(n_users, n_factors)\n",
        "        self.movie_factors = Embedding(n_movies, n_factors)\n",
        "\n",
        "    def forward(self, x):\n",
        "        users = self.user_factors(x[:,0])\n",
        "        movies = self.movie_factors(x[:,1])\n",
        "        return (users * movies).sum(dim=1)"
      ],
      "metadata": {
        "execution": {
          "iopub.status.busy": "2022-06-27T22:34:58.774287Z",
          "iopub.execute_input": "2022-06-27T22:34:58.77519Z",
          "iopub.status.idle": "2022-06-27T22:34:58.786753Z",
          "shell.execute_reply.started": "2022-06-27T22:34:58.775128Z",
          "shell.execute_reply": "2022-06-27T22:34:58.785104Z"
        },
        "trusted": true,
        "id": "Y-xVtOalAfjC"
      },
      "execution_count": null,
      "outputs": []
    },
    {
      "cell_type": "markdown",
      "source": [
        "If you haven't seen object-oriented programming before, then don't worry, you won't need to use it much in this book. We are just mentioning this approach here, because most online tutorials and documentation will use the object-oriented syntax.\n",
        "\n",
        "Note that the input of the model is a tensor of shape `batch_size x 2`, where the first column (`x[:, 0]`) contains the user IDs and the second column (`x[:, 1]`) contains the movie IDs. As explained before, we use the *embedding* layers to represent our matrices of user and movie latent factors:"
      ],
      "metadata": {
        "id": "p6Y477CsAfjC"
      }
    },
    {
      "cell_type": "code",
      "source": [
        "x,y = dls.one_batch()\n",
        "x.shape"
      ],
      "metadata": {
        "execution": {
          "iopub.status.busy": "2022-06-27T22:34:58.788806Z",
          "iopub.execute_input": "2022-06-27T22:34:58.789513Z",
          "iopub.status.idle": "2022-06-27T22:34:58.925995Z",
          "shell.execute_reply.started": "2022-06-27T22:34:58.789442Z",
          "shell.execute_reply": "2022-06-27T22:34:58.924739Z"
        },
        "trusted": true,
        "id": "VAa_s955AfjD"
      },
      "execution_count": null,
      "outputs": []
    },
    {
      "cell_type": "markdown",
      "source": [
        "Now that we have defined our architecture, and created our parameter matrices, we need to create a `Learner` to optimize our model. In the past we have used special functions, such as `cnn_learner`, which set up everything for us for a particular application. Since we are doing things from scratch here, we will use the plain `Learner` class:"
      ],
      "metadata": {
        "id": "QYdRonAfAfjD"
      }
    },
    {
      "cell_type": "code",
      "source": [
        "model = DotProduct(n_users, n_movies, 50)\n",
        "learn = Learner(dls, model, loss_func=MSELossFlat())"
      ],
      "metadata": {
        "execution": {
          "iopub.status.busy": "2022-06-27T22:34:58.927744Z",
          "iopub.execute_input": "2022-06-27T22:34:58.928149Z",
          "iopub.status.idle": "2022-06-27T22:34:58.941859Z",
          "shell.execute_reply.started": "2022-06-27T22:34:58.928115Z",
          "shell.execute_reply": "2022-06-27T22:34:58.940397Z"
        },
        "trusted": true,
        "id": "WzoTG79RAfjD"
      },
      "execution_count": null,
      "outputs": []
    },
    {
      "cell_type": "markdown",
      "source": [
        "We are now ready to fit our model:"
      ],
      "metadata": {
        "id": "xgPNXHu_AfjE"
      }
    },
    {
      "cell_type": "code",
      "source": [
        "learn.fit_one_cycle(5, 5e-3)"
      ],
      "metadata": {
        "execution": {
          "iopub.status.busy": "2022-06-27T22:34:58.944564Z",
          "iopub.execute_input": "2022-06-27T22:34:58.945513Z",
          "iopub.status.idle": "2022-06-27T22:35:48.927727Z",
          "shell.execute_reply.started": "2022-06-27T22:34:58.945433Z",
          "shell.execute_reply": "2022-06-27T22:35:48.926507Z"
        },
        "trusted": true,
        "id": "HKVfNISeAfjE"
      },
      "execution_count": null,
      "outputs": []
    },
    {
      "cell_type": "markdown",
      "source": [
        "The first thing we can do to make this model a little bit better is to force those predictions to be between 0 and 5. For this, we just need to use `sigmoid_range`, like in <<chapter_multicat>>. One thing we discovered empirically is that it's better to have the range go a little bit over 5, so we use `(0, 5.5)`:"
      ],
      "metadata": {
        "id": "_ue22_QDAfjE"
      }
    },
    {
      "cell_type": "code",
      "source": [
        "class DotProduct(Module):\n",
        "    def __init__(self, n_users, n_movies, n_factors, y_range=(0,5.5)):\n",
        "        self.user_factors = Embedding(n_users, n_factors)\n",
        "        self.movie_factors = Embedding(n_movies, n_factors)\n",
        "        self.y_range = y_range\n",
        "\n",
        "    def forward(self, x):\n",
        "        users = self.user_factors(x[:,0])\n",
        "        movies = self.movie_factors(x[:,1])\n",
        "        return sigmoid_range((users * movies).sum(dim=1), *self.y_range)"
      ],
      "metadata": {
        "execution": {
          "iopub.status.busy": "2022-06-27T22:35:48.929572Z",
          "iopub.execute_input": "2022-06-27T22:35:48.931919Z",
          "iopub.status.idle": "2022-06-27T22:35:48.940594Z",
          "shell.execute_reply.started": "2022-06-27T22:35:48.931876Z",
          "shell.execute_reply": "2022-06-27T22:35:48.939325Z"
        },
        "trusted": true,
        "id": "0CuFLGYkAfjE"
      },
      "execution_count": null,
      "outputs": []
    },
    {
      "cell_type": "code",
      "source": [
        "model = DotProduct(n_users, n_movies, 50)\n",
        "learn = Learner(dls, model, loss_func=MSELossFlat())\n",
        "learn.fit_one_cycle(5, 5e-3)"
      ],
      "metadata": {
        "execution": {
          "iopub.status.busy": "2022-06-27T22:35:48.941998Z",
          "iopub.execute_input": "2022-06-27T22:35:48.942352Z",
          "iopub.status.idle": "2022-06-27T22:36:34.061813Z",
          "shell.execute_reply.started": "2022-06-27T22:35:48.942322Z",
          "shell.execute_reply": "2022-06-27T22:36:34.06068Z"
        },
        "trusted": true,
        "id": "LdupZz4sAfjF"
      },
      "execution_count": null,
      "outputs": []
    },
    {
      "cell_type": "markdown",
      "source": [
        "This is a reasonable start, but we can do better. One obvious missing piece is that some users are just more positive or negative in their recommendations than others, and some movies are just plain better or worse than others. But in our dot product representation we do not have any way to encode either of these things. If all you can say about a movie is, for instance, that it is very sci-fi, very action-oriented, and very not old, then you don't really have any way to say whether most people like it.\n",
        "\n",
        "That's because at this point we only have weights; we do not have biases. If we have a single number for each user that we can add to our scores, and ditto for each movie, that will handle this missing piece very nicely. So first of all, let's adjust our model architecture:"
      ],
      "metadata": {
        "id": "dGRR1qMEAfjF"
      }
    },
    {
      "cell_type": "code",
      "source": [
        "class DotProductBias(Module):\n",
        "    def __init__(self, n_users, n_movies, n_factors, y_range=(0,5.5)):\n",
        "        self.user_factors = Embedding(n_users, n_factors)\n",
        "        self.user_bias = Embedding(n_users, 1)\n",
        "        self.movie_factors = Embedding(n_movies, n_factors)\n",
        "        self.movie_bias = Embedding(n_movies, 1)\n",
        "        self.y_range = y_range\n",
        "\n",
        "    def forward(self, x):\n",
        "        users = self.user_factors(x[:,0])\n",
        "        movies = self.movie_factors(x[:,1])\n",
        "        res = (users * movies).sum(dim=1, keepdim=True)\n",
        "        res += self.user_bias(x[:,0]) + self.movie_bias(x[:,1])\n",
        "        return sigmoid_range(res, *self.y_range)"
      ],
      "metadata": {
        "execution": {
          "iopub.status.busy": "2022-06-27T22:36:34.063194Z",
          "iopub.execute_input": "2022-06-27T22:36:34.063529Z",
          "iopub.status.idle": "2022-06-27T22:36:34.073745Z",
          "shell.execute_reply.started": "2022-06-27T22:36:34.0635Z",
          "shell.execute_reply": "2022-06-27T22:36:34.072598Z"
        },
        "trusted": true,
        "id": "0b7WOEH6AfjF"
      },
      "execution_count": null,
      "outputs": []
    },
    {
      "cell_type": "markdown",
      "source": [
        "Let's try training this and see how it goes:"
      ],
      "metadata": {
        "id": "vfgp-h9SAfjG"
      }
    },
    {
      "cell_type": "code",
      "source": [
        "model = DotProductBias(n_users, n_movies, 50)\n",
        "learn = Learner(dls, model, loss_func=MSELossFlat())\n",
        "learn.fit_one_cycle(5, 5e-3)"
      ],
      "metadata": {
        "execution": {
          "iopub.status.busy": "2022-06-27T22:36:34.075433Z",
          "iopub.execute_input": "2022-06-27T22:36:34.075791Z",
          "iopub.status.idle": "2022-06-27T22:37:18.123472Z",
          "shell.execute_reply.started": "2022-06-27T22:36:34.075761Z",
          "shell.execute_reply": "2022-06-27T22:37:18.122528Z"
        },
        "trusted": true,
        "id": "hbtuR-qeAfjG"
      },
      "execution_count": null,
      "outputs": []
    },
    {
      "cell_type": "markdown",
      "source": [
        "Instead of being better, it ends up being worse (at least at the end of training). Why is that? If we look at both trainings carefully, we can see the validation loss stopped improving in the middle and started to get worse. As we've seen, this is a clear indication of overfitting. In this case, there is no way to use data augmentation, so we will have to use another regularization technique. One approach that can be helpful is *weight decay*."
      ],
      "metadata": {
        "id": "D9z0sk1KAfjH"
      }
    },
    {
      "cell_type": "markdown",
      "source": [
        "### Weight Decay"
      ],
      "metadata": {
        "id": "Fl0rq34bAfjH"
      }
    },
    {
      "cell_type": "markdown",
      "source": [
        "Weight decay, or *L2 regularization*, consists in adding to your loss function the sum of all the weights squared. Why do that? Because when we compute the gradients, it will add a contribution to them that will encourage the weights to be as small as possible.\n",
        "\n",
        "Why would it prevent overfitting? The idea is that the larger the coefficients are, the sharper canyons we will have in the loss function. If we take the basic example of a parabola, `y = a * (x**2)`, the larger `a` is, the more *narrow* the parabola is:"
      ],
      "metadata": {
        "id": "Ll5uGJ9nAfjH"
      }
    },
    {
      "cell_type": "code",
      "source": [
        "x = np.linspace(-2,2,100)\n",
        "a_s = [1,2,5,10,50]\n",
        "ys = [a * x**2 for a in a_s]\n",
        "_,ax = plt.subplots(figsize=(8,6))\n",
        "for a,y in zip(a_s,ys): ax.plot(x,y, label=f'a={a}')\n",
        "ax.set_ylim([0,5])\n",
        "ax.legend();"
      ],
      "metadata": {
        "hide_input": true,
        "execution": {
          "iopub.status.busy": "2022-06-27T22:37:18.125086Z",
          "iopub.execute_input": "2022-06-27T22:37:18.125918Z",
          "iopub.status.idle": "2022-06-27T22:37:18.392132Z",
          "shell.execute_reply.started": "2022-06-27T22:37:18.125873Z",
          "shell.execute_reply": "2022-06-27T22:37:18.390905Z"
        },
        "trusted": true,
        "id": "4kHlc9XoAfjI"
      },
      "execution_count": null,
      "outputs": []
    },
    {
      "cell_type": "markdown",
      "source": [
        "So, letting our model learn high parameters might cause it to fit all the data points in the training set with an overcomplex function that has very sharp changes, which will lead to overfitting.\n",
        "\n",
        "Limiting our weights from growing too much is going to hinder the training of the model, but it will yield a state where it generalizes better. Going back to the theory briefly, weight decay (or just `wd`) is a parameter that controls that sum of squares we add to our loss (assuming `parameters` is a tensor of all parameters):\n",
        "\n",
        "``` python\n",
        "loss_with_wd = loss + wd * (parameters**2).sum()\n",
        "```\n",
        "\n",
        "In practice, though, it would be very inefficient (and maybe numerically unstable) to compute that big sum and add it to the loss. If you remember a little bit of high school math, you might recall that the derivative of `p**2` with respect to `p` is `2*p`, so adding that big sum to our loss is exactly the same as doing:\n",
        "\n",
        "``` python\n",
        "parameters.grad += wd * 2 * parameters\n",
        "```\n",
        "\n",
        "In practice, since `wd` is a parameter that we choose, we can just make it twice as big, so we don't even need the `*2` in this equation. To use weight decay in fastai, just pass `wd` in your call to `fit` or `fit_one_cycle`:"
      ],
      "metadata": {
        "id": "MiuXL0uHAfjI"
      }
    },
    {
      "cell_type": "code",
      "source": [
        "model = DotProductBias(n_users, n_movies, 50)\n",
        "learn = Learner(dls, model, loss_func=MSELossFlat())\n",
        "learn.fit_one_cycle(5, 5e-3, wd=0.1)"
      ],
      "metadata": {
        "execution": {
          "iopub.status.busy": "2022-06-27T22:37:18.393669Z",
          "iopub.execute_input": "2022-06-27T22:37:18.393975Z",
          "iopub.status.idle": "2022-06-27T22:38:01.696224Z",
          "shell.execute_reply.started": "2022-06-27T22:37:18.393949Z",
          "shell.execute_reply": "2022-06-27T22:38:01.695416Z"
        },
        "trusted": true,
        "id": "BkeCkIVxAfjI"
      },
      "execution_count": null,
      "outputs": []
    },
    {
      "cell_type": "markdown",
      "source": [
        "Much better!"
      ],
      "metadata": {
        "id": "pBG1eXTDAfjJ"
      }
    },
    {
      "cell_type": "markdown",
      "source": [
        "### Creating Our Own Embedding Module"
      ],
      "metadata": {
        "id": "IdJ5TJK_AfjJ"
      }
    },
    {
      "cell_type": "markdown",
      "source": [
        "So far, we've used `Embedding` without thinking about how it really works. Let's re-create `DotProductBias` *without* using this class. We'll need a randomly initialized weight matrix for each of the embeddings. We have to be careful, however. Recall from <<chapter_mnist_basics>> that optimizers require that they can get all the parameters of a module from the module's `parameters` method. However, this does not happen fully automatically. If we just add a tensor as an attribute to a `Module`, it will not be included in `parameters`:"
      ],
      "metadata": {
        "id": "89kb5P19AfjJ"
      }
    },
    {
      "cell_type": "code",
      "source": [
        "class T(Module):\n",
        "    def __init__(self): self.a = torch.ones(3)\n",
        "\n",
        "L(T().parameters())"
      ],
      "metadata": {
        "execution": {
          "iopub.status.busy": "2022-06-27T22:38:01.702734Z",
          "iopub.execute_input": "2022-06-27T22:38:01.703068Z",
          "iopub.status.idle": "2022-06-27T22:38:01.710362Z",
          "shell.execute_reply.started": "2022-06-27T22:38:01.703038Z",
          "shell.execute_reply": "2022-06-27T22:38:01.709553Z"
        },
        "trusted": true,
        "id": "Zf-nX-iUAfjJ"
      },
      "execution_count": null,
      "outputs": []
    },
    {
      "cell_type": "markdown",
      "source": [
        "To tell `Module` that we want to treat a tensor as a parameter, we have to wrap it in the `nn.Parameter` class. This class doesn't actually add any functionality (other than automatically calling `requires_grad_` for us). It's only used as a \"marker\" to show what to include in `parameters`:"
      ],
      "metadata": {
        "id": "SQhiJcx2AfjK"
      }
    },
    {
      "cell_type": "code",
      "source": [
        "class T(Module):\n",
        "    def __init__(self): self.a = nn.Parameter(torch.ones(3))\n",
        "\n",
        "L(T().parameters())"
      ],
      "metadata": {
        "execution": {
          "iopub.status.busy": "2022-06-27T22:38:01.711604Z",
          "iopub.execute_input": "2022-06-27T22:38:01.711907Z",
          "iopub.status.idle": "2022-06-27T22:38:01.722702Z",
          "shell.execute_reply.started": "2022-06-27T22:38:01.71188Z",
          "shell.execute_reply": "2022-06-27T22:38:01.721745Z"
        },
        "trusted": true,
        "id": "j5fWMROTAfjK"
      },
      "execution_count": null,
      "outputs": []
    },
    {
      "cell_type": "markdown",
      "source": [
        "All PyTorch modules use `nn.Parameter` for any trainable parameters, which is why we haven't needed to explicitly use this wrapper up until now:"
      ],
      "metadata": {
        "id": "uUPegrM8AfjK"
      }
    },
    {
      "cell_type": "code",
      "source": [
        "class T(Module):\n",
        "    def __init__(self): self.a = nn.Linear(1, 3, bias=False)\n",
        "\n",
        "t = T()\n",
        "L(t.parameters())"
      ],
      "metadata": {
        "execution": {
          "iopub.status.busy": "2022-06-27T22:38:01.724155Z",
          "iopub.execute_input": "2022-06-27T22:38:01.724459Z",
          "iopub.status.idle": "2022-06-27T22:38:01.732462Z",
          "shell.execute_reply.started": "2022-06-27T22:38:01.724433Z",
          "shell.execute_reply": "2022-06-27T22:38:01.731739Z"
        },
        "trusted": true,
        "id": "OBvGf7C5AfjK"
      },
      "execution_count": null,
      "outputs": []
    },
    {
      "cell_type": "code",
      "source": [
        "type(t.a.weight)"
      ],
      "metadata": {
        "execution": {
          "iopub.status.busy": "2022-06-27T22:38:01.733772Z",
          "iopub.execute_input": "2022-06-27T22:38:01.734122Z",
          "iopub.status.idle": "2022-06-27T22:38:01.742943Z",
          "shell.execute_reply.started": "2022-06-27T22:38:01.734094Z",
          "shell.execute_reply": "2022-06-27T22:38:01.74192Z"
        },
        "trusted": true,
        "id": "TrGX4ohFAfjL"
      },
      "execution_count": null,
      "outputs": []
    },
    {
      "cell_type": "markdown",
      "source": [
        "We can create a tensor as a parameter, with random initialization, like so:"
      ],
      "metadata": {
        "id": "nJEvhr8GAfjM"
      }
    },
    {
      "cell_type": "code",
      "source": [
        "def create_params(size):\n",
        "    return nn.Parameter(torch.zeros(*size).normal_(0, 0.01))"
      ],
      "metadata": {
        "execution": {
          "iopub.status.busy": "2022-06-27T22:38:01.744116Z",
          "iopub.execute_input": "2022-06-27T22:38:01.744455Z",
          "iopub.status.idle": "2022-06-27T22:38:01.757499Z",
          "shell.execute_reply.started": "2022-06-27T22:38:01.744428Z",
          "shell.execute_reply": "2022-06-27T22:38:01.756435Z"
        },
        "trusted": true,
        "id": "TZi4pSFoAfjM"
      },
      "execution_count": null,
      "outputs": []
    },
    {
      "cell_type": "markdown",
      "source": [
        "Let's use this to create `DotProductBias` again, but without `Embedding`:"
      ],
      "metadata": {
        "id": "d_SLmLqfAfjM"
      }
    },
    {
      "cell_type": "code",
      "source": [
        "class DotProductBias(Module):\n",
        "    def __init__(self, n_users, n_movies, n_factors, y_range=(0,5.5)):\n",
        "        self.user_factors = create_params([n_users, n_factors])\n",
        "        self.user_bias = create_params([n_users])\n",
        "        self.movie_factors = create_params([n_movies, n_factors])\n",
        "        self.movie_bias = create_params([n_movies])\n",
        "        self.y_range = y_range\n",
        "\n",
        "    def forward(self, x):\n",
        "        users = self.user_factors[x[:,0]]\n",
        "        movies = self.movie_factors[x[:,1]]\n",
        "        res = (users*movies).sum(dim=1)\n",
        "        res += self.user_bias[x[:,0]] + self.movie_bias[x[:,1]]\n",
        "        return sigmoid_range(res, *self.y_range)"
      ],
      "metadata": {
        "execution": {
          "iopub.status.busy": "2022-06-27T22:38:01.75888Z",
          "iopub.execute_input": "2022-06-27T22:38:01.7592Z",
          "iopub.status.idle": "2022-06-27T22:38:01.769728Z",
          "shell.execute_reply.started": "2022-06-27T22:38:01.759172Z",
          "shell.execute_reply": "2022-06-27T22:38:01.768694Z"
        },
        "trusted": true,
        "id": "R2SskT0nAfjN"
      },
      "execution_count": null,
      "outputs": []
    },
    {
      "cell_type": "markdown",
      "source": [
        "Then let's train it again to check we get around the same results we saw in the previous section:"
      ],
      "metadata": {
        "id": "0b15mABQAfjN"
      }
    },
    {
      "cell_type": "code",
      "source": [
        "model = DotProductBias(n_users, n_movies, 50)\n",
        "learn = Learner(dls, model, loss_func=MSELossFlat())\n",
        "learn.fit_one_cycle(5, 5e-3, wd=0.1)"
      ],
      "metadata": {
        "execution": {
          "iopub.status.busy": "2022-06-27T22:38:01.771413Z",
          "iopub.execute_input": "2022-06-27T22:38:01.772178Z",
          "iopub.status.idle": "2022-06-27T22:38:50.81073Z",
          "shell.execute_reply.started": "2022-06-27T22:38:01.772148Z",
          "shell.execute_reply": "2022-06-27T22:38:50.809559Z"
        },
        "trusted": true,
        "id": "31bAVtzZAfjN"
      },
      "execution_count": null,
      "outputs": []
    },
    {
      "cell_type": "markdown",
      "source": [
        "Now, let's take a look at what our model has learned."
      ],
      "metadata": {
        "id": "TmaYuRPjAfjN"
      }
    },
    {
      "cell_type": "markdown",
      "source": [
        "## Interpreting Embeddings and Biases"
      ],
      "metadata": {
        "id": "hoRefPSMAfjN"
      }
    },
    {
      "cell_type": "markdown",
      "source": [
        "Our model is already useful, in that it can provide us with movie recommendations for our users—but it is also interesting to see what parameters it has discovered. The easiest to interpret are the biases. Here are the movies with the lowest values in the bias vector:"
      ],
      "metadata": {
        "id": "5izQZVgkAfjN"
      }
    },
    {
      "cell_type": "code",
      "source": [
        "movie_bias = learn.model.movie_bias.squeeze()\n",
        "idxs = movie_bias.argsort()[:5]\n",
        "[dls.classes['title'][i] for i in idxs]"
      ],
      "metadata": {
        "execution": {
          "iopub.status.busy": "2022-06-27T22:38:50.812657Z",
          "iopub.execute_input": "2022-06-27T22:38:50.813069Z",
          "iopub.status.idle": "2022-06-27T22:38:50.828351Z",
          "shell.execute_reply.started": "2022-06-27T22:38:50.813029Z",
          "shell.execute_reply": "2022-06-27T22:38:50.827118Z"
        },
        "trusted": true,
        "id": "DkZ3PIIEAfjO"
      },
      "execution_count": null,
      "outputs": []
    },
    {
      "cell_type": "markdown",
      "source": [
        "Think about what this means. What it's saying is that for each of these movies, even when a user is very well matched to its latent factors (which, as we will see in a moment, tend to represent things like level of action, age of movie, and so forth), they still generally don't like it. We could have simply sorted the movies directly by their average rating, but looking at the learned bias tells us something much more interesting. It tells us not just whether a movie is of a kind that people tend not to enjoy watching, but that people tend not to like watching it even if it is of a kind that they would otherwise enjoy! By the same token, here are the movies with the highest bias:"
      ],
      "metadata": {
        "id": "2rGgYRJVAfjO"
      }
    },
    {
      "cell_type": "code",
      "source": [
        "idxs = movie_bias.argsort(descending=True)[:5]\n",
        "[dls.classes['title'][i] for i in idxs]"
      ],
      "metadata": {
        "execution": {
          "iopub.status.busy": "2022-06-27T22:38:50.830078Z",
          "iopub.execute_input": "2022-06-27T22:38:50.830836Z",
          "iopub.status.idle": "2022-06-27T22:38:50.839456Z",
          "shell.execute_reply.started": "2022-06-27T22:38:50.830794Z",
          "shell.execute_reply": "2022-06-27T22:38:50.838293Z"
        },
        "trusted": true,
        "id": "mWia1StsAfjO"
      },
      "execution_count": null,
      "outputs": []
    },
    {
      "cell_type": "markdown",
      "source": [
        "So, for instance, even if you don't normally enjoy detective movies, you might enjoy *LA Confidential*!\n",
        "\n",
        "It is not quite so easy to directly interpret the embedding matrices. There are just too many factors for a human to look at. But there is a technique that can pull out the most important underlying *directions* in such a matrix, called *principal component analysis* (PCA). We will not be going into this in detail in this book, because it is not particularly important for you to understand to be a deep learning practitioner, but if you are interested then we suggest you check out the fast.ai course [Computational Linear Algebra for Coders](https://github.com/fastai/numerical-linear-algebra). Here's what our movies look like based on two of the strongest PCA components."
      ],
      "metadata": {
        "id": "anMikxPgAfjP"
      }
    },
    {
      "cell_type": "code",
      "source": [
        "g = ratings.groupby('title')['rating'].count()\n",
        "top_movies = g.sort_values(ascending=False).index.values[:1000]\n",
        "top_idxs = tensor([learn.dls.classes['title'].o2i[m] for m in top_movies])\n",
        "movie_w = learn.model.movie_factors[top_idxs].cpu().detach()\n",
        "movie_pca = movie_w.pca(3)\n",
        "fac0,fac1,fac2 = movie_pca.t()\n",
        "idxs = list(range(50))\n",
        "X = fac0[idxs]\n",
        "Y = fac2[idxs]\n",
        "plt.figure(figsize=(12,12))\n",
        "plt.scatter(X, Y)\n",
        "for i, x, y in zip(top_movies[idxs], X, Y):\n",
        "    plt.text(x,y,i, color=np.random.rand(3)*0.7, fontsize=11)\n",
        "plt.show()"
      ],
      "metadata": {
        "hide_input": true,
        "execution": {
          "iopub.status.busy": "2022-06-27T22:38:50.841578Z",
          "iopub.execute_input": "2022-06-27T22:38:50.8424Z",
          "iopub.status.idle": "2022-06-27T22:38:51.801456Z",
          "shell.execute_reply.started": "2022-06-27T22:38:50.842348Z",
          "shell.execute_reply": "2022-06-27T22:38:51.800397Z"
        },
        "trusted": true,
        "id": "a2gAt_NaAfjP"
      },
      "execution_count": null,
      "outputs": []
    },
    {
      "cell_type": "markdown",
      "source": [
        "We can see here that the model seems to have discovered a concept of *classic* versus *pop culture* movies, or perhaps it is *critically acclaimed* that is represented here."
      ],
      "metadata": {
        "id": "22dh3mxcAfjP"
      }
    },
    {
      "cell_type": "markdown",
      "source": [
        "> j: No matter how many models I train, I never stop getting moved and surprised by how these randomly initialized bunches of numbers, trained with such simple mechanics, manage to discover things about my data all by themselves. It almost seems like cheating, that I can create code that does useful things without ever actually telling it how to do those things!"
      ],
      "metadata": {
        "id": "TqO3U2YlAfjQ"
      }
    },
    {
      "cell_type": "markdown",
      "source": [
        "We defined our model from scratch to teach you what is inside, but you can directly use the fastai library to build it. We'll look at how to do that next."
      ],
      "metadata": {
        "id": "a71kiHs3AfjR"
      }
    },
    {
      "cell_type": "markdown",
      "source": [
        "### Using fastai.collab"
      ],
      "metadata": {
        "id": "5c3Pzg32AfjS"
      }
    },
    {
      "cell_type": "markdown",
      "source": [
        "We can create and train a collaborative filtering model using the exact structure shown earlier by using fastai's `collab_learner`:"
      ],
      "metadata": {
        "id": "HGdfcJemAfjT"
      }
    },
    {
      "cell_type": "code",
      "source": [
        "learn = collab_learner(dls, n_factors=50, y_range=(0, 5.5))"
      ],
      "metadata": {
        "execution": {
          "iopub.status.busy": "2022-06-27T22:38:51.802843Z",
          "iopub.execute_input": "2022-06-27T22:38:51.80374Z",
          "iopub.status.idle": "2022-06-27T22:38:51.814462Z",
          "shell.execute_reply.started": "2022-06-27T22:38:51.803699Z",
          "shell.execute_reply": "2022-06-27T22:38:51.813161Z"
        },
        "trusted": true,
        "id": "FAKsJtN2AfjT"
      },
      "execution_count": null,
      "outputs": []
    },
    {
      "cell_type": "code",
      "source": [
        "learn.fit_one_cycle(5, 5e-3, wd=0.1)"
      ],
      "metadata": {
        "execution": {
          "iopub.status.busy": "2022-06-27T22:38:51.815959Z",
          "iopub.execute_input": "2022-06-27T22:38:51.816514Z",
          "iopub.status.idle": "2022-06-27T22:39:38.404979Z",
          "shell.execute_reply.started": "2022-06-27T22:38:51.816467Z",
          "shell.execute_reply": "2022-06-27T22:39:38.403707Z"
        },
        "trusted": true,
        "id": "dym3yDM9AfjT"
      },
      "execution_count": null,
      "outputs": []
    },
    {
      "cell_type": "markdown",
      "source": [
        "The names of the layers can be seen by printing the model:"
      ],
      "metadata": {
        "id": "mI82O0SxAfjT"
      }
    },
    {
      "cell_type": "code",
      "source": [
        "learn.model"
      ],
      "metadata": {
        "execution": {
          "iopub.status.busy": "2022-06-27T22:39:38.406625Z",
          "iopub.execute_input": "2022-06-27T22:39:38.407081Z",
          "iopub.status.idle": "2022-06-27T22:39:38.415177Z",
          "shell.execute_reply.started": "2022-06-27T22:39:38.407038Z",
          "shell.execute_reply": "2022-06-27T22:39:38.414098Z"
        },
        "trusted": true,
        "id": "rUEZbqNSAfjU"
      },
      "execution_count": null,
      "outputs": []
    },
    {
      "cell_type": "markdown",
      "source": [
        "We can use these to replicate any of the analyses we did in the previous section—for instance:"
      ],
      "metadata": {
        "id": "SfCTTd93AfjU"
      }
    },
    {
      "cell_type": "code",
      "source": [
        "movie_bias = learn.model.i_bias.weight.squeeze()\n",
        "idxs = movie_bias.argsort(descending=True)[:5]\n",
        "[dls.classes['title'][i] for i in idxs]"
      ],
      "metadata": {
        "execution": {
          "iopub.status.busy": "2022-06-27T22:39:38.416693Z",
          "iopub.execute_input": "2022-06-27T22:39:38.417433Z",
          "iopub.status.idle": "2022-06-27T22:39:38.430146Z",
          "shell.execute_reply.started": "2022-06-27T22:39:38.417392Z",
          "shell.execute_reply": "2022-06-27T22:39:38.429375Z"
        },
        "trusted": true,
        "id": "eTBvW1rpAfjU"
      },
      "execution_count": null,
      "outputs": []
    },
    {
      "cell_type": "markdown",
      "source": [
        "Another interesting thing we can do with these learned embeddings is to look at _distance_."
      ],
      "metadata": {
        "id": "TgzsT5djAfjV"
      }
    },
    {
      "cell_type": "markdown",
      "source": [
        "### Embedding Distance"
      ],
      "metadata": {
        "id": "WAon1CFDAfjV"
      }
    },
    {
      "cell_type": "markdown",
      "source": [
        "On a two-dimensional map we can calculate the distance between two coordinates using the formula of Pythagoras: $\\sqrt{x^{2}+y^{2}}$ (assuming that *x* and *y* are the distances between the coordinates on each axis). For a 50-dimensional embedding we can do exactly the same thing, except that we add up the squares of all 50 of the coordinate distances.\n",
        "\n",
        "If there were two movies that were nearly identical, then their embedding vectors would also have to be nearly identical, because the users that would like them would be nearly exactly the same. There is a more general idea here: movie similarity can be defined by the similarity of users that like those movies. And that directly means that the distance between two movies' embedding vectors can define that similarity. We can use this to find the most similar movie to *Silence of the Lambs*:"
      ],
      "metadata": {
        "id": "PPKQOnH_AfjW"
      }
    },
    {
      "cell_type": "code",
      "source": [
        "movie_factors = learn.model.i_weight.weight\n",
        "idx = dls.classes['title'].o2i['Silence of the Lambs, The (1991)']\n",
        "distances = nn.CosineSimilarity(dim=1)(movie_factors, movie_factors[idx][None])\n",
        "idx = distances.argsort(descending=True)[1]\n",
        "dls.classes['title'][idx]"
      ],
      "metadata": {
        "execution": {
          "iopub.status.busy": "2022-06-27T22:39:38.432171Z",
          "iopub.execute_input": "2022-06-27T22:39:38.432908Z",
          "iopub.status.idle": "2022-06-27T22:39:38.449784Z",
          "shell.execute_reply.started": "2022-06-27T22:39:38.432864Z",
          "shell.execute_reply": "2022-06-27T22:39:38.4485Z"
        },
        "trusted": true,
        "id": "-wdWVTRDAfjW"
      },
      "execution_count": null,
      "outputs": []
    },
    {
      "cell_type": "markdown",
      "source": [
        "Now that we have succesfully trained a model, let's see how to deal with the situation where we have no data for a user. How can we make recommendations to new users?"
      ],
      "metadata": {
        "id": "fEEIDOtrAfjW"
      }
    },
    {
      "cell_type": "markdown",
      "source": [
        "## Bootstrapping a Collaborative Filtering Model"
      ],
      "metadata": {
        "id": "0Cx3QgSIAfjW"
      }
    },
    {
      "cell_type": "markdown",
      "source": [
        "The biggest challenge with using collaborative filtering models in practice is the *bootstrapping problem*. The most extreme version of this problem is when you have no users, and therefore no history to learn from. What products do you recommend to your very first user?\n",
        "\n",
        "But even if you are a well-established company with a long history of user transactions, you still have the question: what do you do when a new user signs up? And indeed, what do you do when you add a new product to your portfolio? There is no magic solution to this problem, and really the solutions that we suggest are just variations of *use your common sense*. You could assign new users the mean of all of the embedding vectors of your other users, but this has the problem that that particular combination of latent factors may be not at all common (for instance, the average for the science-fiction factor may be high, and the average for the action factor may be low, but it is not that common to find people who like science-fiction without action). Better would probably be to pick some particular user to represent *average taste*.\n",
        "\n",
        "Better still is to use a tabular model based on user meta data to construct your initial embedding vector. When a user signs up, think about what questions you could ask them that could help you to understand their tastes. Then you can create a model where the dependent variable is a user's embedding vector, and the independent variables are the results of the questions that you ask them, along with their signup metadata. We will see in the next section how to create these kinds of tabular models. (You may have noticed that when you sign up for services such as Pandora and Netflix, they tend to ask you a few questions about what genres of movie or music you like; this is how they come up with your initial collaborative filtering recommendations.)"
      ],
      "metadata": {
        "id": "7JVIL1xJAfjX"
      }
    },
    {
      "cell_type": "markdown",
      "source": [
        "One thing to be careful of is that a small number of extremely enthusiastic users may end up effectively setting the recommendations for your whole user base. This is a very common problem, for instance, in movie recommendation systems. People that watch anime tend to watch a whole lot of it, and don't watch very much else, and spend a lot of time putting their ratings on websites. As a result, anime tends to be heavily overrepresented in a lot of *best ever movies* lists. In this particular case, it can be fairly obvious that you have a problem of representation bias, but if the bias is occurring in the latent factors then it may not be obvious at all.\n",
        "\n",
        "Such a problem can change the entire makeup of your user base, and the behavior of your system. This is particularly true because of positive feedback loops. If a small number of your users tend to set the direction of your recommendation system, then they are naturally going to end up attracting more people like them to your system. And that will, of course, amplify the original representation bias. This type of bias has a natural tendency to be amplified exponentially. You may have seen examples of company executives expressing surprise at how their online platforms rapidly deteriorated in such a way that they expressed values at odds with the values of the founders. In the presence of these kinds of feedback loops, it is easy to see how such a divergence can happen both quickly and in a way that is hidden until it is too late.\n",
        "\n",
        "In a self-reinforcing system like this, we should probably expect these kinds of feedback loops to be the norm, not the exception. Therefore, you should assume that you will see them, plan for that, and identify up front how you will deal with these issues. Try to think about all of the ways in which feedback loops may be represented in your system, and how you might be able to identify them in your data. In the end, this is coming back to our original advice about how to avoid disaster when rolling out any kind of machine learning system. It's all about ensuring that there are humans in the loop; that there is careful monitoring, and a gradual and thoughtful rollout."
      ],
      "metadata": {
        "id": "GVfWhnnjAfjX"
      }
    },
    {
      "cell_type": "markdown",
      "source": [
        "Our dot product model works quite well, and it is the basis of many successful real-world recommendation systems. This approach to collaborative filtering is known as *probabilistic matrix factorization* (PMF). Another approach, which generally works similarly well given the same data, is deep learning."
      ],
      "metadata": {
        "id": "hEIb0BgzAfjX"
      }
    },
    {
      "cell_type": "markdown",
      "source": [
        "## Deep Learning for Collaborative Filtering"
      ],
      "metadata": {
        "id": "gQOAC8aeAfjX"
      }
    },
    {
      "cell_type": "markdown",
      "source": [
        "To turn our architecture into a deep learning model, the first step is to take the results of the embedding lookup and concatenate those activations together. This gives us a matrix which we can then pass through linear layers and nonlinearities in the usual way.\n",
        "\n",
        "Since we'll be concatenating the embeddings, rather than taking their dot product, the two embedding matrices can have different sizes (i.e., different numbers of latent factors). fastai has a function `get_emb_sz` that returns recommended sizes for embedding matrices for your data, based on a heuristic that fast.ai has found tends to work well in practice:"
      ],
      "metadata": {
        "id": "weBLe2MiAfjX"
      }
    },
    {
      "cell_type": "code",
      "source": [
        "embs = get_emb_sz(dls)\n",
        "embs"
      ],
      "metadata": {
        "execution": {
          "iopub.status.busy": "2022-06-27T22:39:38.451747Z",
          "iopub.execute_input": "2022-06-27T22:39:38.452381Z",
          "iopub.status.idle": "2022-06-27T22:39:38.45966Z",
          "shell.execute_reply.started": "2022-06-27T22:39:38.45234Z",
          "shell.execute_reply": "2022-06-27T22:39:38.458826Z"
        },
        "trusted": true,
        "id": "8dSlP3LjAfjY"
      },
      "execution_count": null,
      "outputs": []
    },
    {
      "cell_type": "markdown",
      "source": [
        "Let's implement this class:"
      ],
      "metadata": {
        "id": "8msCI2rhAfjY"
      }
    },
    {
      "cell_type": "code",
      "source": [
        "class CollabNN(Module):\n",
        "    def __init__(self, user_sz, item_sz, y_range=(0,5.5), n_act=100):\n",
        "        self.user_factors = Embedding(*user_sz)\n",
        "        self.item_factors = Embedding(*item_sz)\n",
        "        self.layers = nn.Sequential(\n",
        "            nn.Linear(user_sz[1]+item_sz[1], n_act),\n",
        "            nn.ReLU(),\n",
        "            nn.Linear(n_act, 1))\n",
        "        self.y_range = y_range\n",
        "\n",
        "    def forward(self, x):\n",
        "        embs = self.user_factors(x[:,0]),self.item_factors(x[:,1])\n",
        "        x = self.layers(torch.cat(embs, dim=1))\n",
        "        return sigmoid_range(x, *self.y_range)"
      ],
      "metadata": {
        "execution": {
          "iopub.status.busy": "2022-06-27T22:39:38.461062Z",
          "iopub.execute_input": "2022-06-27T22:39:38.461876Z",
          "iopub.status.idle": "2022-06-27T22:39:38.47184Z",
          "shell.execute_reply.started": "2022-06-27T22:39:38.461834Z",
          "shell.execute_reply": "2022-06-27T22:39:38.470932Z"
        },
        "trusted": true,
        "id": "qfITjCz3AfjY"
      },
      "execution_count": null,
      "outputs": []
    },
    {
      "cell_type": "markdown",
      "source": [
        "And use it to create a model:"
      ],
      "metadata": {
        "id": "pXHiI5yQAfjZ"
      }
    },
    {
      "cell_type": "code",
      "source": [
        "model = CollabNN(*embs)"
      ],
      "metadata": {
        "execution": {
          "iopub.status.busy": "2022-06-27T22:39:38.473393Z",
          "iopub.execute_input": "2022-06-27T22:39:38.474109Z",
          "iopub.status.idle": "2022-06-27T22:39:38.489697Z",
          "shell.execute_reply.started": "2022-06-27T22:39:38.474067Z",
          "shell.execute_reply": "2022-06-27T22:39:38.488734Z"
        },
        "trusted": true,
        "id": "m77Q1Y90AfjZ"
      },
      "execution_count": null,
      "outputs": []
    },
    {
      "cell_type": "markdown",
      "source": [
        "`CollabNN` creates our `Embedding` layers in the same way as previous classes in this chapter, except that we now use the `embs` sizes. `self.layers` is identical to the mini-neural net we created in <<chapter_mnist_basics>> for MNIST. Then, in `forward`, we apply the embeddings, concatenate the results, and pass this through the mini-neural net. Finally, we apply `sigmoid_range` as we have in previous models.\n",
        "\n",
        "Let's see if it trains:"
      ],
      "metadata": {
        "id": "jpaYZyYTAfjZ"
      }
    },
    {
      "cell_type": "code",
      "source": [
        "learn = Learner(dls, model, loss_func=MSELossFlat())\n",
        "learn.fit_one_cycle(5, 5e-3, wd=0.01)"
      ],
      "metadata": {
        "execution": {
          "iopub.status.busy": "2022-06-27T22:39:38.49127Z",
          "iopub.execute_input": "2022-06-27T22:39:38.491842Z",
          "iopub.status.idle": "2022-06-27T22:40:39.973547Z",
          "shell.execute_reply.started": "2022-06-27T22:39:38.491803Z",
          "shell.execute_reply": "2022-06-27T22:40:39.972656Z"
        },
        "trusted": true,
        "id": "Su2DyOLhAfjZ"
      },
      "execution_count": null,
      "outputs": []
    },
    {
      "cell_type": "markdown",
      "source": [
        "fastai provides this model in `fastai.collab` if you pass `use_nn=True` in your call to `collab_learner` (including calling `get_emb_sz` for you), and it lets you easily create more layers. For instance, here we're creating two hidden layers, of size 100 and 50, respectively:"
      ],
      "metadata": {
        "id": "LYVtGUylAfja"
      }
    },
    {
      "cell_type": "code",
      "source": [
        "learn = collab_learner(dls, use_nn=True, y_range=(0, 5.5), layers=[100,50])\n",
        "learn.fit_one_cycle(5, 5e-3, wd=0.1)"
      ],
      "metadata": {
        "execution": {
          "iopub.status.busy": "2022-06-27T22:40:39.974805Z",
          "iopub.execute_input": "2022-06-27T22:40:39.975559Z",
          "iopub.status.idle": "2022-06-27T22:41:49.551372Z",
          "shell.execute_reply.started": "2022-06-27T22:40:39.975524Z",
          "shell.execute_reply": "2022-06-27T22:41:49.550527Z"
        },
        "trusted": true,
        "id": "ZyhQzSoOAfja"
      },
      "execution_count": null,
      "outputs": []
    },
    {
      "cell_type": "markdown",
      "source": [
        "`learn.model` is an object of type `EmbeddingNN`. Let's take a look at fastai's code for this class:"
      ],
      "metadata": {
        "id": "4LgLQS8uAfja"
      }
    },
    {
      "cell_type": "code",
      "source": [
        "@delegates(TabularModel)\n",
        "class EmbeddingNN(TabularModel):\n",
        "    def __init__(self, emb_szs, layers, **kwargs):\n",
        "        super().__init__(emb_szs, layers=layers, n_cont=0, out_sz=1, **kwargs)"
      ],
      "metadata": {
        "execution": {
          "iopub.status.busy": "2022-06-27T22:41:49.552807Z",
          "iopub.execute_input": "2022-06-27T22:41:49.553509Z",
          "iopub.status.idle": "2022-06-27T22:41:49.560713Z",
          "shell.execute_reply.started": "2022-06-27T22:41:49.553444Z",
          "shell.execute_reply": "2022-06-27T22:41:49.55957Z"
        },
        "trusted": true,
        "id": "c0uUar4VAfja"
      },
      "execution_count": null,
      "outputs": []
    },
    {
      "cell_type": "markdown",
      "source": [
        "Wow, that's not a lot of code! This class *inherits* from `TabularModel`, which is where it gets all its functionality from. In `__init__` it calls the same method in `TabularModel`, passing `n_cont=0` and `out_sz=1`; other than that, it only passes along whatever arguments it received."
      ],
      "metadata": {
        "id": "WOw96EyDAfjb"
      }
    },
    {
      "cell_type": "markdown",
      "source": [
        "### Sidebar: kwargs and Delegates"
      ],
      "metadata": {
        "id": "_s_FPBFuAfjb"
      }
    },
    {
      "cell_type": "markdown",
      "source": [
        "`EmbeddingNN` includes `**kwargs` as a parameter to `__init__`. In Python `**kwargs` in a parameter list means \"put any additional keyword arguments into a dict called `kwargs`. And `**kwargs` in an argument list means \"insert all key/value pairs in the `kwargs` dict as named arguments here\". This approach is used in many popular libraries, such as `matplotlib`, in which the main `plot` function simply has the signature `plot(*args, **kwargs)`. The [`plot` documentation](https://matplotlib.org/api/pyplot_api.html#matplotlib.pyplot.plot) says \"The `kwargs` are `Line2D` properties\" and then lists those properties.\n",
        "\n",
        "We're using `**kwargs` in `EmbeddingNN` to avoid having to write all the arguments to `TabularModel` a second time, and keep them in sync. However, this makes our API quite difficult to work with, because now Jupyter Notebook doesn't know what parameters are available. Consequently things like tab completion of parameter names and pop-up lists of signatures won't work.\n",
        "\n",
        "fastai resolves this by providing a special `@delegates` decorator, which automatically changes the signature of the class or function (`EmbeddingNN` in this case) to insert all of its keyword arguments into the signature."
      ],
      "metadata": {
        "id": "qWxIvf8eAfjb"
      }
    },
    {
      "cell_type": "markdown",
      "source": [
        "### End sidebar"
      ],
      "metadata": {
        "id": "5QUkGLDJAfjc"
      }
    },
    {
      "cell_type": "markdown",
      "source": [
        "Although the results of `EmbeddingNN` are a bit worse than the dot product approach (which shows the power of carefully constructing an architecture for a domain), it does allow us to do something very important: we can now directly incorporate other user and movie information, date and time information, or any other information that may be relevant to the recommendation. That's exactly what `TabularModel` does. In fact, we've now seen that `EmbeddingNN` is just a `TabularModel`, with `n_cont=0` and `out_sz=1`. So, we'd better spend some time learning about `TabularModel`, and how to use it to get great results! We'll do that in the next chapter."
      ],
      "metadata": {
        "id": "QniQGpomAfjc"
      }
    },
    {
      "cell_type": "markdown",
      "source": [
        "## Conclusion"
      ],
      "metadata": {
        "id": "Zv_XQYXiAfjc"
      }
    },
    {
      "cell_type": "markdown",
      "source": [
        "For our first non-computer vision application, we looked at recommendation systems and saw how gradient descent can learn intrinsic factors or biases about items from a history of ratings. Those can then give us information about the data.\n",
        "\n",
        "We also built our first model in PyTorch. We will do a lot more of this in the next section of the book, but first, let's finish our dive into the other general applications of deep learning, continuing with tabular data."
      ],
      "metadata": {
        "id": "5k6vi6iiAfjc"
      }
    },
    {
      "cell_type": "markdown",
      "source": [
        "## Questionnaire"
      ],
      "metadata": {
        "id": "QfG4hENzAfjd"
      }
    },
    {
      "cell_type": "markdown",
      "source": [
        "1. What problem does collaborative filtering solve?\n",
        "1. How does it solve it?\n",
        "1. Why might a collaborative filtering predictive model fail to be a very useful recommendation system?\n",
        "1. What does a crosstab representation of collaborative filtering data look like?\n",
        "1. Write the code to create a crosstab representation of the MovieLens data (you might need to do some web searching!).\n",
        "1. What is a latent factor? Why is it \"latent\"?\n",
        "1. What is a dot product? Calculate a dot product manually using pure Python with lists.\n",
        "1. What does `pandas.DataFrame.merge` do?\n",
        "1. What is an embedding matrix?\n",
        "1. What is the relationship between an embedding and a matrix of one-hot-encoded vectors?\n",
        "1. Why do we need `Embedding` if we could use one-hot-encoded vectors for the same thing?\n",
        "1. What does an embedding contain before we start training (assuming we're not using a pretained model)?\n",
        "1. Create a class (without peeking, if possible!) and use it.\n",
        "1. What does `x[:,0]` return?\n",
        "1. Rewrite the `DotProduct` class (without peeking, if possible!) and train a model with it.\n",
        "1. What is a good loss function to use for MovieLens? Why?\n",
        "1. What would happen if we used cross-entropy loss with MovieLens? How would we need to change the model?\n",
        "1. What is the use of bias in a dot product model?\n",
        "1. What is another name for weight decay?\n",
        "1. Write the equation for weight decay (without peeking!).\n",
        "1. Write the equation for the gradient of weight decay. Why does it help reduce weights?\n",
        "1. Why does reducing weights lead to better generalization?\n",
        "1. What does `argsort` do in PyTorch?\n",
        "1. Does sorting the movie biases give the same result as averaging overall movie ratings by movie? Why/why not?\n",
        "1. How do you print the names and details of the layers in a model?\n",
        "1. What is the \"bootstrapping problem\" in collaborative filtering?\n",
        "1. How could you deal with the bootstrapping problem for new users? For new movies?\n",
        "1. How can feedback loops impact collaborative filtering systems?\n",
        "1. When using a neural network in collaborative filtering, why can we have different numbers of factors for movies and users?\n",
        "1. Why is there an `nn.Sequential` in the `CollabNN` model?\n",
        "1. What kind of model should we use if we want to add metadata about users and items, or information such as date and time, to a collaborative filtering model?"
      ],
      "metadata": {
        "id": "_NO3HnGtAfjd"
      }
    },
    {
      "cell_type": "markdown",
      "source": [
        "### Further Research\n",
        "\n",
        "1. Take a look at all the differences between the `Embedding` version of `DotProductBias` and the `create_params` version, and try to understand why each of those changes is required. If you're not sure, try reverting each change to see what happens. (NB: even the type of brackets used in `forward` has changed!)\n",
        "1. Find three other areas where collaborative filtering is being used, and find out what the pros and cons of this approach are in those areas.\n",
        "1. Complete this notebook using the full MovieLens dataset, and compare your results to online benchmarks. See if you can improve your accuracy. Look on the book's website and the fast.ai forum for ideas. Note that there are more columns in the full dataset—see if you can use those too (the next chapter might give you ideas).\n",
        "1. Create a model for MovieLens that works with cross-entropy loss, and compare it to the model in this chapter."
      ],
      "metadata": {
        "id": "u8_h_i6_Afjn"
      }
    },
    {
      "cell_type": "code",
      "source": [],
      "metadata": {
        "id": "zsI5_CkfAfjo"
      },
      "execution_count": null,
      "outputs": []
    }
  ]
}
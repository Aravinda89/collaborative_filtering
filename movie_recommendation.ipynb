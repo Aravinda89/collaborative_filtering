{
 "cells": [
  {
   "cell_type": "code",
   "execution_count": 39,
   "id": "08301079-14ce-4111-9a97-f7859ce8b27a",
   "metadata": {},
   "outputs": [],
   "source": [
    "import numpy as np\n",
    "import pandas as pd\n",
    "import os\n",
    "import warnings\n",
    "import matplotlib.pyplot as plt\n",
    "from keras.models import load_model\n",
    "from sklearn.model_selection import train_test_split\n",
    "from keras.layers import Input, Embedding, Flatten, Dot, Dense, Concatenate\n",
    "from keras.models import Model\n",
    "\n",
    "warnings.filterwarnings('ignore')\n",
    "%matplotlib inline"
   ]
  },
  {
   "cell_type": "code",
   "execution_count": 14,
   "id": "177b2efa",
   "metadata": {},
   "outputs": [
    {
     "data": {
      "text/html": [
       "<div>\n",
       "<style scoped>\n",
       "    .dataframe tbody tr th:only-of-type {\n",
       "        vertical-align: middle;\n",
       "    }\n",
       "\n",
       "    .dataframe tbody tr th {\n",
       "        vertical-align: top;\n",
       "    }\n",
       "\n",
       "    .dataframe thead th {\n",
       "        text-align: right;\n",
       "    }\n",
       "</style>\n",
       "<table border=\"1\" class=\"dataframe\">\n",
       "  <thead>\n",
       "    <tr style=\"text-align: right;\">\n",
       "      <th></th>\n",
       "      <th>user_id</th>\n",
       "      <th>item_id</th>\n",
       "      <th>rating</th>\n",
       "      <th>timestamp</th>\n",
       "    </tr>\n",
       "  </thead>\n",
       "  <tbody>\n",
       "    <tr>\n",
       "      <th>0</th>\n",
       "      <td>196</td>\n",
       "      <td>242</td>\n",
       "      <td>3</td>\n",
       "      <td>881250949</td>\n",
       "    </tr>\n",
       "    <tr>\n",
       "      <th>1</th>\n",
       "      <td>186</td>\n",
       "      <td>302</td>\n",
       "      <td>3</td>\n",
       "      <td>891717742</td>\n",
       "    </tr>\n",
       "    <tr>\n",
       "      <th>2</th>\n",
       "      <td>22</td>\n",
       "      <td>377</td>\n",
       "      <td>1</td>\n",
       "      <td>878887116</td>\n",
       "    </tr>\n",
       "    <tr>\n",
       "      <th>3</th>\n",
       "      <td>244</td>\n",
       "      <td>51</td>\n",
       "      <td>2</td>\n",
       "      <td>880606923</td>\n",
       "    </tr>\n",
       "    <tr>\n",
       "      <th>4</th>\n",
       "      <td>166</td>\n",
       "      <td>346</td>\n",
       "      <td>1</td>\n",
       "      <td>886397596</td>\n",
       "    </tr>\n",
       "    <tr>\n",
       "      <th>...</th>\n",
       "      <td>...</td>\n",
       "      <td>...</td>\n",
       "      <td>...</td>\n",
       "      <td>...</td>\n",
       "    </tr>\n",
       "    <tr>\n",
       "      <th>99995</th>\n",
       "      <td>880</td>\n",
       "      <td>476</td>\n",
       "      <td>3</td>\n",
       "      <td>880175444</td>\n",
       "    </tr>\n",
       "    <tr>\n",
       "      <th>99996</th>\n",
       "      <td>716</td>\n",
       "      <td>204</td>\n",
       "      <td>5</td>\n",
       "      <td>879795543</td>\n",
       "    </tr>\n",
       "    <tr>\n",
       "      <th>99997</th>\n",
       "      <td>276</td>\n",
       "      <td>1090</td>\n",
       "      <td>1</td>\n",
       "      <td>874795795</td>\n",
       "    </tr>\n",
       "    <tr>\n",
       "      <th>99998</th>\n",
       "      <td>13</td>\n",
       "      <td>225</td>\n",
       "      <td>2</td>\n",
       "      <td>882399156</td>\n",
       "    </tr>\n",
       "    <tr>\n",
       "      <th>99999</th>\n",
       "      <td>12</td>\n",
       "      <td>203</td>\n",
       "      <td>3</td>\n",
       "      <td>879959583</td>\n",
       "    </tr>\n",
       "  </tbody>\n",
       "</table>\n",
       "<p>100000 rows × 4 columns</p>\n",
       "</div>"
      ],
      "text/plain": [
       "       user_id  item_id  rating  timestamp\n",
       "0          196      242       3  881250949\n",
       "1          186      302       3  891717742\n",
       "2           22      377       1  878887116\n",
       "3          244       51       2  880606923\n",
       "4          166      346       1  886397596\n",
       "...        ...      ...     ...        ...\n",
       "99995      880      476       3  880175444\n",
       "99996      716      204       5  879795543\n",
       "99997      276     1090       1  874795795\n",
       "99998       13      225       2  882399156\n",
       "99999       12      203       3  879959583\n",
       "\n",
       "[100000 rows x 4 columns]"
      ]
     },
     "execution_count": 14,
     "metadata": {},
     "output_type": "execute_result"
    }
   ],
   "source": [
    "# from google.colab import files \n",
    "# uploaded = files.upload()\n",
    "\n",
    "header = ['user_id','item_id','rating','timestamp']\n",
    "dataset = pd.read_csv('./data/movies/ml-100k/u.data',sep = '\\t',names = header)\n",
    "dataset"
   ]
  },
  {
   "cell_type": "code",
   "execution_count": 16,
   "id": "409cd896",
   "metadata": {},
   "outputs": [],
   "source": [
    "train, test = train_test_split(dataset, test_size=0.2, random_state=42)"
   ]
  },
  {
   "cell_type": "code",
   "execution_count": 17,
   "id": "189c39ab",
   "metadata": {},
   "outputs": [
    {
     "data": {
      "text/html": [
       "<div>\n",
       "<style scoped>\n",
       "    .dataframe tbody tr th:only-of-type {\n",
       "        vertical-align: middle;\n",
       "    }\n",
       "\n",
       "    .dataframe tbody tr th {\n",
       "        vertical-align: top;\n",
       "    }\n",
       "\n",
       "    .dataframe thead th {\n",
       "        text-align: right;\n",
       "    }\n",
       "</style>\n",
       "<table border=\"1\" class=\"dataframe\">\n",
       "  <thead>\n",
       "    <tr style=\"text-align: right;\">\n",
       "      <th></th>\n",
       "      <th>user_id</th>\n",
       "      <th>item_id</th>\n",
       "      <th>rating</th>\n",
       "      <th>timestamp</th>\n",
       "    </tr>\n",
       "  </thead>\n",
       "  <tbody>\n",
       "    <tr>\n",
       "      <th>75220</th>\n",
       "      <td>807</td>\n",
       "      <td>1411</td>\n",
       "      <td>1</td>\n",
       "      <td>893082619</td>\n",
       "    </tr>\n",
       "    <tr>\n",
       "      <th>48955</th>\n",
       "      <td>474</td>\n",
       "      <td>659</td>\n",
       "      <td>5</td>\n",
       "      <td>887925187</td>\n",
       "    </tr>\n",
       "    <tr>\n",
       "      <th>44966</th>\n",
       "      <td>463</td>\n",
       "      <td>268</td>\n",
       "      <td>4</td>\n",
       "      <td>877384940</td>\n",
       "    </tr>\n",
       "    <tr>\n",
       "      <th>13568</th>\n",
       "      <td>139</td>\n",
       "      <td>286</td>\n",
       "      <td>4</td>\n",
       "      <td>879537844</td>\n",
       "    </tr>\n",
       "    <tr>\n",
       "      <th>92727</th>\n",
       "      <td>621</td>\n",
       "      <td>751</td>\n",
       "      <td>4</td>\n",
       "      <td>883799651</td>\n",
       "    </tr>\n",
       "  </tbody>\n",
       "</table>\n",
       "</div>"
      ],
      "text/plain": [
       "       user_id  item_id  rating  timestamp\n",
       "75220      807     1411       1  893082619\n",
       "48955      474      659       5  887925187\n",
       "44966      463      268       4  877384940\n",
       "13568      139      286       4  879537844\n",
       "92727      621      751       4  883799651"
      ]
     },
     "execution_count": 17,
     "metadata": {},
     "output_type": "execute_result"
    }
   ],
   "source": [
    "train.head()"
   ]
  },
  {
   "cell_type": "code",
   "execution_count": 18,
   "id": "11db5497",
   "metadata": {},
   "outputs": [
    {
     "data": {
      "text/html": [
       "<div>\n",
       "<style scoped>\n",
       "    .dataframe tbody tr th:only-of-type {\n",
       "        vertical-align: middle;\n",
       "    }\n",
       "\n",
       "    .dataframe tbody tr th {\n",
       "        vertical-align: top;\n",
       "    }\n",
       "\n",
       "    .dataframe thead th {\n",
       "        text-align: right;\n",
       "    }\n",
       "</style>\n",
       "<table border=\"1\" class=\"dataframe\">\n",
       "  <thead>\n",
       "    <tr style=\"text-align: right;\">\n",
       "      <th></th>\n",
       "      <th>user_id</th>\n",
       "      <th>item_id</th>\n",
       "      <th>rating</th>\n",
       "      <th>timestamp</th>\n",
       "    </tr>\n",
       "  </thead>\n",
       "  <tbody>\n",
       "    <tr>\n",
       "      <th>75721</th>\n",
       "      <td>877</td>\n",
       "      <td>381</td>\n",
       "      <td>4</td>\n",
       "      <td>882677345</td>\n",
       "    </tr>\n",
       "    <tr>\n",
       "      <th>80184</th>\n",
       "      <td>815</td>\n",
       "      <td>602</td>\n",
       "      <td>3</td>\n",
       "      <td>878694269</td>\n",
       "    </tr>\n",
       "    <tr>\n",
       "      <th>19864</th>\n",
       "      <td>94</td>\n",
       "      <td>431</td>\n",
       "      <td>4</td>\n",
       "      <td>891721716</td>\n",
       "    </tr>\n",
       "    <tr>\n",
       "      <th>76699</th>\n",
       "      <td>416</td>\n",
       "      <td>875</td>\n",
       "      <td>2</td>\n",
       "      <td>876696938</td>\n",
       "    </tr>\n",
       "    <tr>\n",
       "      <th>92991</th>\n",
       "      <td>500</td>\n",
       "      <td>182</td>\n",
       "      <td>2</td>\n",
       "      <td>883873556</td>\n",
       "    </tr>\n",
       "  </tbody>\n",
       "</table>\n",
       "</div>"
      ],
      "text/plain": [
       "       user_id  item_id  rating  timestamp\n",
       "75721      877      381       4  882677345\n",
       "80184      815      602       3  878694269\n",
       "19864       94      431       4  891721716\n",
       "76699      416      875       2  876696938\n",
       "92991      500      182       2  883873556"
      ]
     },
     "execution_count": 18,
     "metadata": {},
     "output_type": "execute_result"
    }
   ],
   "source": [
    "test.head()"
   ]
  },
  {
   "cell_type": "code",
   "execution_count": 31,
   "id": "b8a1f886",
   "metadata": {},
   "outputs": [
    {
     "data": {
      "text/plain": [
       "943"
      ]
     },
     "execution_count": 31,
     "metadata": {},
     "output_type": "execute_result"
    }
   ],
   "source": [
    "n_users = len(dataset.user_id.unique())\n",
    "n_users"
   ]
  },
  {
   "cell_type": "code",
   "execution_count": 32,
   "id": "3174100b",
   "metadata": {},
   "outputs": [
    {
     "data": {
      "text/plain": [
       "1682"
      ]
     },
     "execution_count": 32,
     "metadata": {},
     "output_type": "execute_result"
    }
   ],
   "source": [
    "n_items = len(dataset.item_id.unique())\n",
    "n_items"
   ]
  },
  {
   "cell_type": "code",
   "execution_count": 33,
   "id": "c54ee313",
   "metadata": {},
   "outputs": [],
   "source": [
    "# creating book embedding path\n",
    "movie_input = Input(shape=[1], name=\"Movie-Input\")\n",
    "movie_embedding = Embedding(n_items+1, 5, name=\"Movie-Embedding\")(movie_input)\n",
    "movie_vec = Flatten(name=\"Flatten-Books\")(movie_embedding)\n",
    "\n",
    "# creating user embedding path\n",
    "user_input = Input(shape=[1], name=\"User-Input\")\n",
    "user_embedding = Embedding(n_users+1, 5, name=\"User-Embedding\")(user_input)\n",
    "user_vec = Flatten(name=\"Flatten-Users\")(user_embedding)\n",
    "\n",
    "# concatenate features\n",
    "conc = Concatenate()([movie_vec, user_vec])\n",
    "\n",
    "# add fully-connected-layers\n",
    "fc1 = Dense(128, activation='relu')(conc)\n",
    "fc2 = Dense(32, activation='relu')(fc1)\n",
    "out = Dense(1)(fc2)\n",
    "\n",
    "# Create model and compile it\n",
    "model2 = Model([user_input, movie_input], out)\n",
    "model2.compile('adam', 'mean_squared_error')"
   ]
  },
  {
   "cell_type": "code",
   "execution_count": 34,
   "id": "08995949",
   "metadata": {},
   "outputs": [
    {
     "name": "stdout",
     "output_type": "stream",
     "text": [
      "Model: \"model_3\"\n",
      "__________________________________________________________________________________________________\n",
      " Layer (type)                Output Shape                 Param #   Connected to                  \n",
      "==================================================================================================\n",
      " Movie-Input (InputLayer)    [(None, 1)]                  0         []                            \n",
      "                                                                                                  \n",
      " User-Input (InputLayer)     [(None, 1)]                  0         []                            \n",
      "                                                                                                  \n",
      " Movie-Embedding (Embedding  (None, 1, 5)                 8415      ['Movie-Input[0][0]']         \n",
      " )                                                                                                \n",
      "                                                                                                  \n",
      " User-Embedding (Embedding)  (None, 1, 5)                 4720      ['User-Input[0][0]']          \n",
      "                                                                                                  \n",
      " Flatten-Books (Flatten)     (None, 5)                    0         ['Movie-Embedding[0][0]']     \n",
      "                                                                                                  \n",
      " Flatten-Users (Flatten)     (None, 5)                    0         ['User-Embedding[0][0]']      \n",
      "                                                                                                  \n",
      " concatenate_3 (Concatenate  (None, 10)                   0         ['Flatten-Books[0][0]',       \n",
      " )                                                                   'Flatten-Users[0][0]']       \n",
      "                                                                                                  \n",
      " dense_9 (Dense)             (None, 128)                  1408      ['concatenate_3[0][0]']       \n",
      "                                                                                                  \n",
      " dense_10 (Dense)            (None, 32)                   4128      ['dense_9[0][0]']             \n",
      "                                                                                                  \n",
      " dense_11 (Dense)            (None, 1)                    33        ['dense_10[0][0]']            \n",
      "                                                                                                  \n",
      "==================================================================================================\n",
      "Total params: 18704 (73.06 KB)\n",
      "Trainable params: 18704 (73.06 KB)\n",
      "Non-trainable params: 0 (0.00 Byte)\n",
      "__________________________________________________________________________________________________\n"
     ]
    }
   ],
   "source": [
    "model2.summary()"
   ]
  },
  {
   "cell_type": "code",
   "execution_count": 35,
   "id": "e0bcce96",
   "metadata": {},
   "outputs": [
    {
     "name": "stdout",
     "output_type": "stream",
     "text": [
      "Epoch 1/5\n",
      "2500/2500 [==============================] - 18s 7ms/step - loss: 1.1513\n",
      "Epoch 2/5\n",
      "2500/2500 [==============================] - 16s 7ms/step - loss: 0.8910\n",
      "Epoch 3/5\n",
      "2500/2500 [==============================] - 16s 6ms/step - loss: 0.8646\n",
      "Epoch 4/5\n",
      "2500/2500 [==============================] - 15s 6ms/step - loss: 0.8455\n",
      "Epoch 5/5\n",
      "2500/2500 [==============================] - 14s 6ms/step - loss: 0.8319\n"
     ]
    }
   ],
   "source": [
    "history = model2.fit([train.user_id, train.item_id], train.rating, epochs=5, verbose=1)"
   ]
  },
  {
   "cell_type": "code",
   "execution_count": 40,
   "id": "45a9593a",
   "metadata": {},
   "outputs": [
    {
     "data": {
      "text/plain": [
       "Text(0, 0.5, 'Training Error')"
      ]
     },
     "execution_count": 40,
     "metadata": {},
     "output_type": "execute_result"
    },
    {
     "data": {
      "image/png": "[encoded data removed]",
      "text/plain": [
       "<Figure size 640x480 with 1 Axes>"
      ]
     },
     "metadata": {},
     "output_type": "display_data"
    }
   ],
   "source": [
    "model2.save('./models/regression_model2.h5')\n",
    "plt.plot(history.history['loss'])\n",
    "plt.xlabel(\"Epochs\")\n",
    "plt.ylabel(\"Training Error\")"
   ]
  },
  {
   "cell_type": "code",
   "execution_count": 41,
   "id": "36670c88",
   "metadata": {},
   "outputs": [
    {
     "name": "stdout",
     "output_type": "stream",
     "text": [
      "1/1 [==============================] - 0s 69ms/step\n",
      "[3.608398] 4\n",
      "[3.8282123] 3\n",
      "[3.7009692] 4\n",
      "[3.0789092] 2\n",
      "[3.91226] 2\n",
      "[3.1746159] 3\n",
      "[3.9015546] 5\n",
      "[3.7569916] 4\n",
      "[3.4445853] 3\n",
      "[3.0843534] 4\n"
     ]
    },
    {
     "data": {
      "text/plain": [
       "[None, None, None, None, None, None, None, None, None, None]"
      ]
     },
     "execution_count": 41,
     "metadata": {},
     "output_type": "execute_result"
    }
   ],
   "source": [
    "predictions = model2.predict([test.user_id.head(10), test.item_id.head(10)])\n",
    "[print(predictions[i], test.rating.iloc[i]) for i in range(0,10)]"
   ]
  },
  {
   "cell_type": "code",
   "execution_count": 48,
   "id": "46af7d7a",
   "metadata": {},
   "outputs": [],
   "source": [
    "# Extract embeddings\n",
    "movie_em = model2.get_layer('Movie-Embedding')\n",
    "movie_em_weights = movie_em.get_weights()[0]"
   ]
  },
  {
   "cell_type": "code",
   "execution_count": 49,
   "id": "d36394e1",
   "metadata": {},
   "outputs": [
    {
     "data": {
      "text/plain": [
       "(1683, 5)"
      ]
     },
     "execution_count": 49,
     "metadata": {},
     "output_type": "execute_result"
    }
   ],
   "source": [
    "movie_em_weights.shape"
   ]
  },
  {
   "cell_type": "code",
   "execution_count": 52,
   "id": "5ec7da16",
   "metadata": {},
   "outputs": [
    {
     "data": {
      "text/plain": [
       "<Axes: >"
      ]
     },
     "execution_count": 52,
     "metadata": {},
     "output_type": "execute_result"
    },
    {
     "data": {
      "image/png": "[encoded data removed]",
      "text/plain": [
       "<Figure size 640x480 with 1 Axes>"
      ]
     },
     "metadata": {},
     "output_type": "display_data"
    }
   ],
   "source": [
    "from sklearn.decomposition import PCA\n",
    "import seaborn as sns\n",
    "\n",
    "pca = PCA(n_components=2)\n",
    "pca_result = pca.fit_transform(movie_em_weights)\n",
    "sns.scatterplot(x=pca_result[:,0], y=pca_result[:,1])"
   ]
  },
  {
   "cell_type": "code",
   "execution_count": 59,
   "id": "d746151b",
   "metadata": {},
   "outputs": [
    {
     "data": {
      "text/plain": [
       "array([1, 2, 3, 4, 5])"
      ]
     },
     "execution_count": 59,
     "metadata": {},
     "output_type": "execute_result"
    }
   ],
   "source": [
    "# Creating dataset for making recommendations for the first user\n",
    "movie_data = np.array(list(set(dataset.item_id)))\n",
    "movie_data[:5]"
   ]
  },
  {
   "cell_type": "code",
   "execution_count": 73,
   "id": "05d6df3d",
   "metadata": {},
   "outputs": [
    {
     "data": {
      "text/plain": [
       "array([1, 1, 1, 1, 1])"
      ]
     },
     "execution_count": 73,
     "metadata": {},
     "output_type": "execute_result"
    }
   ],
   "source": [
    "user = np.array([1 for i in range(len(movie_data))])\n",
    "user[:5]"
   ]
  },
  {
   "cell_type": "code",
   "execution_count": 74,
   "id": "bace6c34",
   "metadata": {},
   "outputs": [
    {
     "name": "stdout",
     "output_type": "stream",
     "text": [
      "53/53 [==============================] - 1s 9ms/step\n"
     ]
    }
   ],
   "source": [
    "predictions = model2.predict([pd.Series(user), pd.Series(movie_data)])"
   ]
  },
  {
   "cell_type": "code",
   "execution_count": 75,
   "id": "cee22949",
   "metadata": {},
   "outputs": [
    {
     "data": {
      "text/plain": [
       "array([[3.9372332],\n",
       "       [2.9445782],\n",
       "       [2.8608055],\n",
       "       ...,\n",
       "       [1.7386227],\n",
       "       [3.352323 ],\n",
       "       [3.2662342]], dtype=float32)"
      ]
     },
     "execution_count": 75,
     "metadata": {},
     "output_type": "execute_result"
    }
   ],
   "source": [
    "predictions"
   ]
  },
  {
   "cell_type": "code",
   "execution_count": 76,
   "id": "de17f218",
   "metadata": {},
   "outputs": [
    {
     "data": {
      "text/plain": [
       "array([1448,  482,   63,  113,  317])"
      ]
     },
     "execution_count": 76,
     "metadata": {},
     "output_type": "execute_result"
    }
   ],
   "source": [
    "predictions = np.array([a[0] for a in predictions])\n",
    "\n",
    "recommended_movie_ids = (-predictions).argsort()[:5]\n",
    "\n",
    "recommended_movie_ids"
   ]
  }
 ],
 "metadata": {
  "kernelspec": {
   "display_name": "Python 3 (ipykernel)",
   "language": "python",
   "name": "python3"
  },
  "language_info": {
   "codemirror_mode": {
    "name": "ipython",
    "version": 3
   },
   "file_extension": ".py",
   "mimetype": "text/x-python",
   "name": "python",
   "nbconvert_exporter": "python",
   "pygments_lexer": "ipython3",
   "version": "3.8.10"
  }
 },
 "nbformat": 4,
 "nbformat_minor": 5
}
